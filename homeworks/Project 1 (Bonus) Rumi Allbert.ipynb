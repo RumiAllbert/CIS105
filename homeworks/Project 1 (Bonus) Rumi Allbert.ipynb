{
 "cells": [
  {
   "cell_type": "code",
   "execution_count": 22,
   "metadata": {
    "ExecuteTime": {
     "end_time": "2020-02-21T19:01:46.969909Z",
     "start_time": "2020-02-21T19:01:46.885731Z"
    },
    "code_folding": []
   },
   "outputs": [
    {
     "name": "stdout",
     "output_type": "stream",
     "text": [
      "['武汉疫情严重', '并在蔓延全球', '明慧网对此已开始报道', '灾难降临', '人心难免伤痛', '激愤', '恐慌', '无助', '作为修炼人', '我们应该用什么心态对待', '能为人们做些什么', '首先', '中国大陆对法轮功二十年残酷迫害', '很多同修走出了迫害阴影', '堂堂正正的践行着大法修炼者的使命', '有一些学员失望了', '过起了常人生活', '还有一部分学员长期生活在压抑', '愤怒和无奈中', '盼望着苦难的结束', '等等', '但是在危难面前', '众生更需要慈悲和善的方式', '要做到', '我们自己首先要有容量', '会关心别人', '会用善来讲给人真相', '避免责备人们的过去', '更不能有幸灾乐祸的嫌疑', '而且', '对受无神论毒害很深', '受中共洗脑很深的人', '不要讲的太复杂', '要简单', '让其便于选择善', '比如：有人在身患绝症', '无助无求的时候', '肯念', '法轮大法好', '真善忍好', '或者看了天书', '转法轮', '结果意外的绝处逢生', '有人在恐慌焦虑', '怨恨暴躁的时候', '诚念', '法轮大法好', '真善忍好', '心灵的荒芜得到浇灌', '重获平静和安全', '在', '武汉肺炎', '这个很可能是瘟疫的灾祸面前', '愿意诚念', '法轮大法好', '真善忍好', '甚至肯读一读', '转法轮', '的人', '应该也会得到上天的庇护', '死里逃生的', '疫情凶猛', '自保有妙招', '肺炎', '致命', '避祸有灵丹']\n"
     ]
    },
    {
     "data": {
      "text/plain": [
       "'#Determine the frequency and rank of each word\\nwordfreq = {}\\nfor word in article_final:\\n    if word not in wordfreq:\\n        wordfreq.update({word:1})\\n    else: \\n        x = wordfreq[word]\\n        wordfreq[word] = x + 1\\n\\n\\n#rank the given words and their frequency in descending order\\n\\nrank = 0\\nranked = sorted(wordfreq.items(), key= lambda x: x[1], reverse=True)\\n#Print the titles\\nprint(\" Rank         Word           Frequency\")\\nprint(\\'\\')\\nfor freq in ranked:\\n    rank += 1\\n    word = freq[0]\\n    frequency = freq[1]\\n    df = pd.DataFrame(ranked,columns=[\\'Word\\', \\'Frequency\\'])\\n    \\n    \\n    print(\\'{0:3d} {1:10} {2:15s}   {3:2d}\\'.format(rank, \"\", word, frequency))\\n\\ndf'"
      ]
     },
     "execution_count": 22,
     "metadata": {},
     "output_type": "execute_result"
    }
   ],
   "source": [
    "# -*- coding: utf-8 -*-\n",
    "import pandas as pd\n",
    "import requests\n",
    "from bs4 import BeautifulSoup, SoupStrainer\n",
    "\n",
    "resp = requests.get('http://www.minghui.org/mh/articles/2020/1/27/%E2%80%9C%E6%AD%A6%E6%B1%89%E8%82%BA%E7%82%8E%E2%80%9D-%E8%AE%B2%E7%9C%9F%E7%9B%B8%E9%9C%80%E7%94%A8%E6%85%88%E6%82%B2%E5%96%84%E5%BF%B5-400333.html')\n",
    "resp.encoding = 'utf-8'\n",
    "#resp.text\n",
    "soup = BeautifulSoup(resp.text)\n",
    "s = soup.get_text()\n",
    "\n",
    "# Isolate the article into a single section.\n",
    "S = s.split('【明慧网二零二零年一月二十七日】')[-1]\n",
    "article = S.split('English Version:')[0]\n",
    "\n",
    "#remove any special characters or numbers that would be counted as a word\n",
    "\n",
    "article = article.replace('，', ' ').replace('。', ' ').replace('17', ' ').replace('；', ' ').replace('？', ' ').replace('“', ' ').replace('”', ' ').replace('、',' ').replace('》',' ').replace('《',' ')\n",
    "article_final = article.split()\n",
    "print(article_final)\n",
    "\n",
    "\"\"\"#Determine the frequency and rank of each word\n",
    "wordfreq = {}\n",
    "for word in article_final:\n",
    "    if word not in wordfreq:\n",
    "        wordfreq.update({word:1})\n",
    "    else: \n",
    "        x = wordfreq[word]\n",
    "        wordfreq[word] = x + 1\n",
    "\n",
    "\n",
    "#rank the given words and their frequency in descending order\n",
    "\n",
    "rank = 0\n",
    "ranked = sorted(wordfreq.items(), key= lambda x: x[1], reverse=True)\n",
    "#Print the titles\n",
    "print(\" Rank         Word           Frequency\")\n",
    "print('')\n",
    "for freq in ranked:\n",
    "    rank += 1\n",
    "    word = freq[0]\n",
    "    frequency = freq[1]\n",
    "    df = pd.DataFrame(ranked,columns=['Word', 'Frequency'])\n",
    "    \n",
    "    \n",
    "    print('{0:3d} {1:10} {2:15s}   {3:2d}'.format(rank, \"\", word, frequency))\n",
    "\n",
    "df\"\"\""
   ]
  },
  {
   "cell_type": "code",
   "execution_count": 292,
   "metadata": {
    "ExecuteTime": {
     "end_time": "2020-02-17T17:00:58.734962Z",
     "start_time": "2020-02-17T17:00:58.731702Z"
    }
   },
   "outputs": [
    {
     "name": "stdout",
     "output_type": "stream",
     "text": [
      "            1.0         2000  seiuyeqiuty         \n",
      "            1.0            2\n"
     ]
    }
   ],
   "source": [
    "print('{0:15.1f}  {1:11d}  {2:20s}'.format(1.0, 2000, 'seiuyeqiuty'))\n",
    "print('{0:15.1f}  {1:11d}'.format(1.0, 2))"
   ]
  },
  {
   "cell_type": "code",
   "execution_count": null,
   "metadata": {},
   "outputs": [],
   "source": []
  },
  {
   "cell_type": "code",
   "execution_count": null,
   "metadata": {},
   "outputs": [],
   "source": []
  },
  {
   "cell_type": "code",
   "execution_count": null,
   "metadata": {},
   "outputs": [],
   "source": []
  }
 ],
 "metadata": {
  "kernelspec": {
   "display_name": "Python 3",
   "language": "python",
   "name": "python3"
  },
  "language_info": {
   "codemirror_mode": {
    "name": "ipython",
    "version": 3
   },
   "file_extension": ".py",
   "mimetype": "text/x-python",
   "name": "python",
   "nbconvert_exporter": "python",
   "pygments_lexer": "ipython3",
   "version": "3.7.4"
  },
  "varInspector": {
   "cols": {
    "lenName": 16,
    "lenType": 16,
    "lenVar": 40
   },
   "kernels_config": {
    "python": {
     "delete_cmd_postfix": "",
     "delete_cmd_prefix": "del ",
     "library": "var_list.py",
     "varRefreshCmd": "print(var_dic_list())"
    },
    "r": {
     "delete_cmd_postfix": ") ",
     "delete_cmd_prefix": "rm(",
     "library": "var_list.r",
     "varRefreshCmd": "cat(var_dic_list()) "
    }
   },
   "types_to_exclude": [
    "module",
    "function",
    "builtin_function_or_method",
    "instance",
    "_Feature"
   ],
   "window_display": false
  }
 },
 "nbformat": 4,
 "nbformat_minor": 2
}
