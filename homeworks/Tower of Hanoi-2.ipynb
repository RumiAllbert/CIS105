{
 "cells": [
  {
   "cell_type": "markdown",
   "metadata": {
    "deletable": false,
    "editable": false
   },
   "source": [
    "## Tower of Hanoi Problem \n",
    "\n",
    "### Problem 1: Write 3 different Functions to solve the problem\n",
    "\n",
    "Write 3 recursive functions to solve the Tower of Hanoi problem.\n",
    "\n",
    "- You want to try the functions with different base cases:\n",
    ">- function hanoi1 base case: n==0\n",
    ">- function hanoi2 base case: n==1\n",
    ">- function hanoi3 base case: n<=2\n",
    "\n",
    "Note: you should name you functions with different names:\n",
    "`hanoi1, hanoi2, hanoi3`\n",
    "\n",
    "Then try each of your functions for\n",
    "```Python\n",
    "n = 1\n",
    "n = 2\n",
    "n = 4\n",
    "```\n",
    "\n",
    "They should all work:\n",
    "```Python\n",
    "\n",
    "hanoiFuncs = [hanoi1, hanoi2, hanoi3]\n",
    "\n",
    "for j, hanoi in enumerate(hanoiFuncs):\n",
    "    print(f\"== hanoi{j} ===\\n\")\n",
    "    hanoi(1, \"S\", \"H\", \"T\")\n",
    "    hanoi(2, \"S\", \"H\", \"T\")\n",
    "    hanoi(4, \"S\", \"H\", \"T\")\n",
    "```"
   ]
  },
  {
   "cell_type": "code",
   "execution_count": 17,
   "metadata": {
    "ExecuteTime": {
     "end_time": "2020-03-07T21:45:19.166104Z",
     "start_time": "2020-03-07T21:45:19.161607Z"
    }
   },
   "outputs": [
    {
     "name": "stdout",
     "output_type": "stream",
     "text": [
      "Move disk from S to T\n",
      "Move disk from S to H\n",
      "Move disk from T to H\n",
      "Move disk from S to T\n",
      "Move disk from H to S\n",
      "Move disk from H to T\n",
      "Move disk from S to T\n"
     ]
    }
   ],
   "source": [
    "def hanoi2(n, source, helper, target):\n",
    "    if n <= 2: \n",
    "        print(\"Move disk from {} to {}\".format(source, target))\n",
    "    else:\n",
    "        # move tower of size n - 1 to helper:\n",
    "        hanoi2(n-1,source,target,helper)\n",
    "        # move disk from source peg to target peg\n",
    "        print(\"Move disk from {} to {}\".format(source, target))\n",
    "        # move tower of size n-1 from helper to target\n",
    "        hanoi2(n-1,helper,source,target)\n",
    "\n",
    "hanoi2(4, \"S\", \"H\", \"T\")"
   ]
  },
  {
   "cell_type": "code",
   "execution_count": 18,
   "metadata": {
    "ExecuteTime": {
     "end_time": "2020-03-07T21:45:22.613735Z",
     "start_time": "2020-03-07T21:45:22.608188Z"
    }
   },
   "outputs": [
    {
     "name": "stdout",
     "output_type": "stream",
     "text": [
      "Move disk from S to T\n",
      "Move disk from S to H\n",
      "Move disk from T to H\n",
      "Move disk from S to T\n",
      "Move disk from H to S\n",
      "Move disk from H to T\n",
      "Move disk from S to T\n",
      "Move disk from S to H\n",
      "Move disk from T to H\n",
      "Move disk from T to S\n",
      "Move disk from H to S\n",
      "Move disk from T to H\n",
      "Move disk from S to T\n",
      "Move disk from S to H\n",
      "Move disk from T to H\n",
      "Move disk from S to T\n",
      "Move disk from H to S\n",
      "Move disk from H to T\n",
      "Move disk from S to T\n",
      "Move disk from H to S\n",
      "Move disk from T to H\n",
      "Move disk from T to S\n",
      "Move disk from H to S\n",
      "Move disk from H to T\n",
      "Move disk from S to T\n",
      "Move disk from S to H\n",
      "Move disk from T to H\n",
      "Move disk from S to T\n",
      "Move disk from H to S\n",
      "Move disk from H to T\n",
      "Move disk from S to T\n"
     ]
    }
   ],
   "source": [
    "def hanoi1(n, source, helper, target):\n",
    "    if n == 0: \n",
    "        print(\"Move disk from {} to {}\".format(source, target))\n",
    "    else:\n",
    "        # move tower of size n - 1 to helper:\n",
    "        hanoi1(n-1,source,target,helper)\n",
    "        # move disk from source peg to target peg\n",
    "        print(\"Move disk from {} to {}\".format(source, target))\n",
    "        # move tower of size n-1 from helper to target\n",
    "        hanoi1(n-1,helper,source,target)\n",
    "\n",
    "hanoi1(4, \"S\", \"H\", \"T\")"
   ]
  },
  {
   "cell_type": "code",
   "execution_count": 21,
   "metadata": {
    "ExecuteTime": {
     "end_time": "2020-03-07T21:46:29.121395Z",
     "start_time": "2020-03-07T21:46:29.116118Z"
    }
   },
   "outputs": [
    {
     "name": "stdout",
     "output_type": "stream",
     "text": [
      "Move disk from S to H\n",
      "Move disk from S to T\n",
      "Move disk from H to T\n",
      "Move disk from S to H\n",
      "Move disk from T to S\n",
      "Move disk from T to H\n",
      "Move disk from S to H\n",
      "Move disk from S to T\n",
      "Move disk from H to T\n",
      "Move disk from H to S\n",
      "Move disk from T to S\n",
      "Move disk from H to T\n",
      "Move disk from S to H\n",
      "Move disk from S to T\n",
      "Move disk from H to T\n"
     ]
    }
   ],
   "source": [
    "def hanoi(n, source, helper, target):\n",
    "    if n == 1: \n",
    "        print(\"Move disk from {} to {}\".format(source, target))\n",
    "\n",
    "    else:\n",
    "        # move tower of size n - 1 to helper:\n",
    "        hanoi(n-1,source,target,helper)\n",
    "        # move disk from source peg to target peg\n",
    "        print(\"Move disk from {} to {}\".format(source, target))\n",
    "        # move tower of size n-1 from helper to target\n",
    "        hanoi(n-1,helper,source,target)\n",
    "\n",
    "hanoi(4, \"S\", \"H\", \"T\")"
   ]
  },
  {
   "cell_type": "code",
   "execution_count": 22,
   "metadata": {
    "ExecuteTime": {
     "end_time": "2020-03-07T21:46:29.490765Z",
     "start_time": "2020-03-07T21:46:29.484758Z"
    }
   },
   "outputs": [
    {
     "name": "stdout",
     "output_type": "stream",
     "text": [
      "== hanoi0 ===\n",
      "\n",
      "Move disk from S to T\n",
      "Move disk from S to H\n",
      "Move disk from S to T\n",
      "Move disk from H to T\n",
      "Move disk from S to H\n",
      "Move disk from S to T\n",
      "Move disk from H to T\n",
      "Move disk from S to H\n",
      "Move disk from T to S\n",
      "Move disk from T to H\n",
      "Move disk from S to H\n",
      "Move disk from S to T\n",
      "Move disk from H to T\n",
      "Move disk from H to S\n",
      "Move disk from T to S\n",
      "Move disk from H to T\n",
      "Move disk from S to H\n",
      "Move disk from S to T\n",
      "Move disk from H to T\n",
      "== hanoi1 ===\n",
      "\n",
      "Move disk from S to H\n",
      "Move disk from S to T\n",
      "Move disk from H to T\n",
      "Move disk from S to T\n",
      "Move disk from S to H\n",
      "Move disk from T to H\n",
      "Move disk from S to T\n",
      "Move disk from H to S\n",
      "Move disk from H to T\n",
      "Move disk from S to T\n",
      "Move disk from S to T\n",
      "Move disk from S to H\n",
      "Move disk from T to H\n",
      "Move disk from S to T\n",
      "Move disk from H to S\n",
      "Move disk from H to T\n",
      "Move disk from S to T\n",
      "Move disk from S to H\n",
      "Move disk from T to H\n",
      "Move disk from T to S\n",
      "Move disk from H to S\n",
      "Move disk from T to H\n",
      "Move disk from S to T\n",
      "Move disk from S to H\n",
      "Move disk from T to H\n",
      "Move disk from S to T\n",
      "Move disk from H to S\n",
      "Move disk from H to T\n",
      "Move disk from S to T\n",
      "Move disk from H to S\n",
      "Move disk from T to H\n",
      "Move disk from T to S\n",
      "Move disk from H to S\n",
      "Move disk from H to T\n",
      "Move disk from S to T\n",
      "Move disk from S to H\n",
      "Move disk from T to H\n",
      "Move disk from S to T\n",
      "Move disk from H to S\n",
      "Move disk from H to T\n",
      "Move disk from S to T\n",
      "== hanoi2 ===\n",
      "\n",
      "Move disk from S to T\n",
      "Move disk from S to T\n",
      "Move disk from S to T\n",
      "Move disk from S to H\n",
      "Move disk from T to H\n",
      "Move disk from S to T\n",
      "Move disk from H to S\n",
      "Move disk from H to T\n",
      "Move disk from S to T\n"
     ]
    }
   ],
   "source": [
    "hanoiFuncs = [hanoi, hanoi1, hanoi2]\n",
    "\n",
    "for j, hanoi in enumerate(hanoiFuncs):\n",
    "    print(f\"== hanoi{j} ===\\n\")\n",
    "    hanoi(1, \"S\", \"H\", \"T\")\n",
    "    hanoi(2, \"S\", \"H\", \"T\")\n",
    "    hanoi(4, \"S\", \"H\", \"T\")"
   ]
  },
  {
   "cell_type": "markdown",
   "metadata": {
    "deletable": false,
    "editable": false
   },
   "source": [
    "### Desired output for n = 4 (no need to print the bullets):\n",
    "    \n",
    "- move disk from S to H\n",
    "- move disk from S to T\n",
    "- move disk from H to T\n",
    "- move disk from S to H\n",
    "- move disk from T to S\n",
    "- move disk from T to H\n",
    "- move disk from S to H\n",
    "- move disk from S to T\n",
    "- move disk from H to T\n",
    "- move disk from H to S\n",
    "- move disk from T to S\n",
    "- move disk from H to T\n",
    "- move disk from S to H\n",
    "- move disk from S to T\n",
    "- move disk from H to T"
   ]
  },
  {
   "cell_type": "markdown",
   "metadata": {
    "ExecuteTime": {
     "end_time": "2020-03-05T18:09:07.205649Z",
     "start_time": "2020-03-05T18:09:07.196830Z"
    },
    "deletable": false,
    "editable": false
   },
   "source": [
    "### Problem 2: Estimate time complexity\n",
    "\n",
    "Try to estimate big-Oh of this function, empirically or analytically:\n",
    "    \n",
    "    number of total moves N_Move as a function of total number of disks n:\n",
    "        \n",
    "        N_Move(n) ~ O(?)\n",
    "        \n",
    "    Please explain your estimation in clear logic.\n",
    "\n"
   ]
  },
  {
   "cell_type": "markdown",
   "metadata": {},
   "source": [
    "\n",
    "#### You Answer here"
   ]
  },
  {
   "cell_type": "markdown",
   "metadata": {},
   "source": [
    "The time complexity of this algorithm can be characterized by Big-O notation of $O(2^n)$. In other words, this algorithm has an exponential growth. That is, for every new recursive call, the time required to run will be double of that of the previous one. \n",
    "\n",
    "The time complexity of this algorithm and recursive function can be described as: \n",
    " $$T(n) = 2T(n-1) + 1$$\n",
    " Where T(n) is the time it takes to move `n` disk. "
   ]
  },
  {
   "cell_type": "code",
   "execution_count": null,
   "metadata": {},
   "outputs": [],
   "source": []
  }
 ],
 "metadata": {
  "kernelspec": {
   "display_name": "Python 3",
   "language": "python",
   "name": "python3"
  },
  "language_info": {
   "codemirror_mode": {
    "name": "ipython",
    "version": 3
   },
   "file_extension": ".py",
   "mimetype": "text/x-python",
   "name": "python",
   "nbconvert_exporter": "python",
   "pygments_lexer": "ipython3",
   "version": "3.7.4"
  },
  "toc": {
   "base_numbering": 1,
   "nav_menu": {},
   "number_sections": true,
   "sideBar": true,
   "skip_h1_title": false,
   "title_cell": "Table of Contents",
   "title_sidebar": "Contents",
   "toc_cell": false,
   "toc_position": {},
   "toc_section_display": true,
   "toc_window_display": false
  },
  "varInspector": {
   "cols": {
    "lenName": 16,
    "lenType": 16,
    "lenVar": 40
   },
   "kernels_config": {
    "python": {
     "delete_cmd_postfix": "",
     "delete_cmd_prefix": "del ",
     "library": "var_list.py",
     "varRefreshCmd": "print(var_dic_list())"
    },
    "r": {
     "delete_cmd_postfix": ") ",
     "delete_cmd_prefix": "rm(",
     "library": "var_list.r",
     "varRefreshCmd": "cat(var_dic_list()) "
    }
   },
   "types_to_exclude": [
    "module",
    "function",
    "builtin_function_or_method",
    "instance",
    "_Feature"
   ],
   "window_display": false
  }
 },
 "nbformat": 4,
 "nbformat_minor": 2
}
