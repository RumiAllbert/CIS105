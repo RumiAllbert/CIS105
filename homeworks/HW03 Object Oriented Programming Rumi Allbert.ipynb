{
 "cells": [
  {
   "cell_type": "markdown",
   "metadata": {},
   "source": [
    "# Object Oriented Programming\n",
    "## Homework Assignment\n",
    "\n"
   ]
  },
  {
   "cell_type": "markdown",
   "metadata": {},
   "source": [
    "## Problem 0\n",
    "\n",
    "Use Code visualization tool at http://pythontutor.com/visualize.html#mode=edit to trace following program line by line:\n",
    "\n",
    "```python\n",
    "class BankAcct:\n",
    "    def __init__(self, accNum, initBalance):\n",
    "        self.acc_num = accNum\n",
    "        self.balance = initBalance\n",
    "    def getBalance(self):\n",
    "        return self.balance\n",
    "        \n",
    "\n",
    "b2 = BankAcct(1002, 150.)\n",
    "b3 = BankAcct(1003, 500.)\n",
    "b4 = BankAcct(1004, 350.)\n",
    "\n",
    "bank = [b2, b3, b4]\n",
    "big = bank[0].balance\n",
    "bigAcc = bank[0]\n",
    "for customerAcct in bank:\n",
    "        x = customerAcct.balance\n",
    "        z = customerAcct\n",
    "        if x > big:\n",
    "            big = x\n",
    "            bigAcc = z\n",
    "```\n",
    "Observe the object instiantiation of b2,b3,b4\n",
    "\n",
    "**Q1:** \n",
    "\n",
    "What is returned by `__init__` method call each time a new object is instiantiated? Do you think `__init__` should return an object of BankAcct ? Why?\n",
    "\n",
    "**Q2:** \n",
    "\n",
    "What is the data type of customerAcct in the for-loop? Write a line of python code to print the data type in the for-loop.\n",
    "\n",
    "Write you anwser in the markdown cell below. Properly format **Answer to Q1** and **Answer to Q2** as headings of your answer; properly quote the python code in your answer such that syntax is highlighted."
   ]
  },
  {
   "cell_type": "markdown",
   "metadata": {},
   "source": [
    "### Answer to Q1:\n",
    "`__init__` doesn't return anything when it is instiantiated, but what ever it passes becomesan intstance of the BankAcct class. `__init__` should not return an object of BankAcct class, rather, the `__init__` function passes the values that will become the attributes of the *instance* of the `BankAcc` class.\n",
    "\n",
    "### Answer to Q2: \n",
    "The data type of customerAcct in the for-loop is a BankAcct type, moreover it is actually a `__main__.BankAcct` object, meaning it is part of the class BankAcct.\n",
    "\n",
    "```python\n",
    "bank = [b2, b3, b4]\n",
    "big = bank[0].balance\n",
    "bigAcc = bank[0]\n",
    "for customerAcct in bank:\n",
    "        x = customerAcct.balance\n",
    "        z = customerAcct\n",
    "        if x > big:\n",
    "            big = x\n",
    "            bigAcc = z\n",
    "\n",
    "print(type(customerAcct)) \n",
    "\n",
    "```"
   ]
  },
  {
   "cell_type": "markdown",
   "metadata": {},
   "source": [
    "## Problem 1\n",
    "Fill in the Line class methods to accept arguements coor1 and coor2 as a pair of tuples (see the next cell for \"EXAMPLE OUTPUT\") and return the slope and distance of the line."
   ]
  },
  {
   "cell_type": "code",
   "execution_count": 118,
   "metadata": {
    "ExecuteTime": {
     "end_time": "2020-02-06T17:54:25.820342Z",
     "start_time": "2020-02-06T17:54:25.815024Z"
    }
   },
   "outputs": [],
   "source": [
    "import math\n",
    "class Line(object):\n",
    "    \n",
    "    \n",
    "    def __init__(self,coor1,coor2):\n",
    "        self.coor1 = coor1\n",
    "        self.coor2 = coor2\n",
    "    \n",
    "    def distance(self):\n",
    "        return math.sqrt( ((self.coor1[0] - self.coor2[0])**2) + ((self.coor1[1] - self.coor2[1])**2) )\n",
    "    \n",
    "    def slope(self):\n",
    "        return  ( (self.coor1[1] - self.coor2[1]) / (self.coor1[0] - self.coor2[0]) )"
   ]
  },
  {
   "cell_type": "code",
   "execution_count": 119,
   "metadata": {
    "ExecuteTime": {
     "end_time": "2020-02-06T17:54:26.537814Z",
     "start_time": "2020-02-06T17:54:26.534519Z"
    }
   },
   "outputs": [],
   "source": [
    "coordinate1 = (3,2)\n",
    "coordinate2 = (8,10)\n",
    "\n",
    "li = Line(coordinate1,coordinate2)"
   ]
  },
  {
   "cell_type": "code",
   "execution_count": 120,
   "metadata": {
    "ExecuteTime": {
     "end_time": "2020-02-06T17:54:26.969191Z",
     "start_time": "2020-02-06T17:54:26.966348Z"
    },
    "deletable": false,
    "editable": false
   },
   "outputs": [],
   "source": [
    "# EXAMPLE OUTPUT\n",
    "\n",
    "coordinate1 = (3,2)\n",
    "coordinate2 = (8,10)\n",
    "\n",
    "li = Line(coordinate1,coordinate2)"
   ]
  },
  {
   "cell_type": "code",
   "execution_count": 121,
   "metadata": {
    "ExecuteTime": {
     "end_time": "2020-02-06T17:54:30.137972Z",
     "start_time": "2020-02-06T17:54:30.134127Z"
    },
    "deletable": false,
    "editable": false
   },
   "outputs": [
    {
     "data": {
      "text/plain": [
       "9.433981132056603"
      ]
     },
     "execution_count": 121,
     "metadata": {},
     "output_type": "execute_result"
    }
   ],
   "source": [
    "li.distance()"
   ]
  },
  {
   "cell_type": "code",
   "execution_count": 122,
   "metadata": {
    "ExecuteTime": {
     "end_time": "2020-02-06T17:54:31.090382Z",
     "start_time": "2020-02-06T17:54:31.086442Z"
    },
    "deletable": false,
    "editable": false
   },
   "outputs": [
    {
     "data": {
      "text/plain": [
       "1.6"
      ]
     },
     "execution_count": 122,
     "metadata": {},
     "output_type": "execute_result"
    }
   ],
   "source": [
    "li.slope()"
   ]
  },
  {
   "cell_type": "markdown",
   "metadata": {},
   "source": [
    "________\n",
    "## Problem 2"
   ]
  },
  {
   "cell_type": "markdown",
   "metadata": {},
   "source": [
    "Complete the class Cylinder such that the \"EXAMPLE OUTPUT\" cell works as shown."
   ]
  },
  {
   "cell_type": "code",
   "execution_count": 2,
   "metadata": {
    "ExecuteTime": {
     "end_time": "2020-02-06T20:40:52.401329Z",
     "start_time": "2020-02-06T20:40:52.396092Z"
    }
   },
   "outputs": [],
   "source": [
    "import math\n",
    "class Cylinder(object):\n",
    "    \n",
    "    def __init__(self,height=1,radius=1):\n",
    "        self.height = height\n",
    "        self.radius = radius\n",
    "        \n",
    "    def volume(self):\n",
    "        vol = (math.pi*((self.radius)**2)*self.height)\n",
    "        return round(vol, 3)\n",
    "    \n",
    "    def surface_area(self):\n",
    "        surface = ( (2*math.pi*self.radius*self.height) + (2*math.pi*((self.radius)**2)) )\n",
    "        return round(surface,3)"
   ]
  },
  {
   "cell_type": "code",
   "execution_count": 148,
   "metadata": {
    "ExecuteTime": {
     "end_time": "2020-02-06T18:01:08.271162Z",
     "start_time": "2020-02-06T18:01:08.268820Z"
    },
    "deletable": false,
    "editable": false
   },
   "outputs": [],
   "source": [
    "# EXAMPLE OUTPUT\n",
    "c = Cylinder(2,3)"
   ]
  },
  {
   "cell_type": "code",
   "execution_count": 149,
   "metadata": {
    "ExecuteTime": {
     "end_time": "2020-02-06T18:01:08.718923Z",
     "start_time": "2020-02-06T18:01:08.715626Z"
    }
   },
   "outputs": [
    {
     "data": {
      "text/plain": [
       "56.549"
      ]
     },
     "execution_count": 149,
     "metadata": {},
     "output_type": "execute_result"
    }
   ],
   "source": [
    "c.volume()"
   ]
  },
  {
   "cell_type": "code",
   "execution_count": 150,
   "metadata": {
    "ExecuteTime": {
     "end_time": "2020-02-06T18:01:09.473042Z",
     "start_time": "2020-02-06T18:01:09.469323Z"
    },
    "deletable": false,
    "editable": false
   },
   "outputs": [
    {
     "data": {
      "text/plain": [
       "94.248"
      ]
     },
     "execution_count": 150,
     "metadata": {},
     "output_type": "execute_result"
    }
   ],
   "source": [
    "c.surface_area()"
   ]
  },
  {
   "cell_type": "markdown",
   "metadata": {
    "collapsed": true
   },
   "source": [
    "________\n",
    "## Problem 3"
   ]
  },
  {
   "cell_type": "markdown",
   "metadata": {
    "ExecuteTime": {
     "end_time": "2019-01-25T21:10:53.571225Z",
     "start_time": "2019-01-25T21:10:53.565015Z"
    }
   },
   "source": [
    "Write a class \"MyCylinder\" that inherits Cylinder and has extra method \"center_cross_section\" that will work as shown below:"
   ]
  },
  {
   "cell_type": "code",
   "execution_count": 3,
   "metadata": {
    "ExecuteTime": {
     "end_time": "2020-02-06T20:40:54.415993Z",
     "start_time": "2020-02-06T20:40:54.412645Z"
    }
   },
   "outputs": [],
   "source": [
    "# MyCylinder code here\n",
    "import math\n",
    "class MyCylinder(Cylinder):\n",
    "    def center_cross_section(self):\n",
    "        \n",
    "        return (self.height*((self.radius)*2))\n",
    "\n",
    "\n"
   ]
  },
  {
   "cell_type": "code",
   "execution_count": 4,
   "metadata": {
    "ExecuteTime": {
     "end_time": "2020-02-06T20:40:56.306801Z",
     "start_time": "2020-02-06T20:40:56.298755Z"
    }
   },
   "outputs": [
    {
     "data": {
      "text/plain": [
       "12"
      ]
     },
     "execution_count": 4,
     "metadata": {},
     "output_type": "execute_result"
    }
   ],
   "source": [
    "# EXAMPLE OUTPUT\n",
    "cyl = MyCylinder(2,3)\n",
    "cyl.center_cross_section()\n"
   ]
  },
  {
   "cell_type": "code",
   "execution_count": 3,
   "metadata": {
    "ExecuteTime": {
     "end_time": "2019-01-25T21:14:17.661957Z",
     "start_time": "2019-01-25T21:14:17.653865Z"
    }
   },
   "outputs": [
    {
     "name": "stdout",
     "output_type": "stream",
     "text": [
      "12\n"
     ]
    }
   ],
   "source": [
    "# EXAMPLE OUTPUT\n",
    "cyl = MyCylinder(2,3)\n",
    "cyl.center_cross_section()\n"
   ]
  },
  {
   "cell_type": "markdown",
   "metadata": {},
   "source": [
    "________\n",
    "#### Problem 4\n",
    "Taylor series for Sine and Cosine can be written as:\n",
    "\n",
    "<img src=\"https://i.stack.imgur.com/sG2mY.png\"></img>\n",
    "\n",
    "Write a class TrigFunc that will use Taylor's equation above to compute both cosine and sine for any input angle. The Taylor terms dimish their values as expansion goes, discard terms whose absolute values are less than 0.00001\n",
    "\n",
    "Use this equation to convert angles in degree to radiance:\n",
    "radiance = degree * pi / 180."
   ]
  },
  {
   "cell_type": "code",
   "execution_count": 3,
   "metadata": {
    "ExecuteTime": {
     "end_time": "2020-02-12T17:07:53.315068Z",
     "start_time": "2020-02-12T17:07:53.306385Z"
    }
   },
   "outputs": [],
   "source": [
    "import math\n",
    "pi = math.pi # constant for pi\n",
    "# use this equation to convert degree into radiance\n",
    "# radiance = degree * pi / 180.\n",
    "class TriagFunc:\n",
    "    def __init__(self, angle_in_degree):\n",
    "        # your code here, assign value for self.angle_in_radiance using angle_in_degree\n",
    "        self.angle_in_degree = angle_in_degree\n",
    "    \n",
    "    \n",
    "    def factorial(self,n):\n",
    "        '''returns n*(n-1)*...*1. If n is 0 it returns 1'''\n",
    "        if n==0: \n",
    "            return 1\n",
    "        \n",
    "        else:   \n",
    "            fac = 1\n",
    "            for j in range(1, n+1):\n",
    "                fac *= j\n",
    "            return fac \n",
    "            \n",
    "        \n",
    "    def cos(self):\n",
    "        # your code here, returns cosine of angle_in_radiance\n",
    "        ans = 0\n",
    "        lastansw = 0\n",
    "        index = 0\n",
    "        radiance = self.angle_in_degree * pi/180\n",
    "        \n",
    "        while True:\n",
    "            n = index * 2\n",
    "            t = (radiance ** (n)) / self.factorial(n)\n",
    "            if -0.00001 < t < 0.00001:\n",
    "                break \n",
    "            if index % 2 == 0:\n",
    "                ans += t\n",
    "            else:\n",
    "                ans -= t\n",
    "            index += 1\n",
    "        return ans\n",
    "            \n",
    "    \n",
    "    def sin(self):\n",
    "         # your code here, returns sine of angle_in_radiance\n",
    "        ans = 0\n",
    "        lastansw = 0\n",
    "        index = 0\n",
    "        radiance = self.angle_in_degree * pi/180\n",
    "        while True:\n",
    "            n = index * 2\n",
    "            t = (radiance ** (index * 2 + 1)) / self.factorial(index * 2 + 1)\n",
    "            if -0.00001 < t < 0.00001:\n",
    "                break\n",
    "            if index % 2 == 0:\n",
    "                ans += t\n",
    "            else:\n",
    "                ans -= t\n",
    "            \n",
    "            index += 1 \n",
    "        return ans"
   ]
  },
  {
   "cell_type": "code",
   "execution_count": 4,
   "metadata": {
    "ExecuteTime": {
     "end_time": "2020-02-12T17:07:53.700763Z",
     "start_time": "2020-02-12T17:07:53.697703Z"
    }
   },
   "outputs": [
    {
     "name": "stdout",
     "output_type": "stream",
     "text": [
      "0.8660252641005711 0.5000021325887924\n"
     ]
    }
   ],
   "source": [
    "# test\n",
    "T = TriagFunc(30.)\n",
    "print(T.cos(), T.sin())\n",
    "# prints numbers that are close to\n",
    "#0.8660, 0.4999"
   ]
  },
  {
   "cell_type": "code",
   "execution_count": null,
   "metadata": {},
   "outputs": [],
   "source": []
  },
  {
   "cell_type": "code",
   "execution_count": null,
   "metadata": {},
   "outputs": [],
   "source": []
  }
 ],
 "metadata": {
  "kernel_info": {
   "name": "python3"
  },
  "kernelspec": {
   "display_name": "Python 3",
   "language": "python",
   "name": "python3"
  },
  "language_info": {
   "codemirror_mode": {
    "name": "ipython",
    "version": 3
   },
   "file_extension": ".py",
   "mimetype": "text/x-python",
   "name": "python",
   "nbconvert_exporter": "python",
   "pygments_lexer": "ipython3",
   "version": "3.7.4"
  },
  "latex_envs": {
   "LaTeX_envs_menu_present": true,
   "autoclose": false,
   "autocomplete": true,
   "bibliofile": "biblio.bib",
   "cite_by": "apalike",
   "current_citInitial": 1,
   "eqLabelWithNumbers": true,
   "eqNumInitial": 1,
   "hotkeys": {
    "equation": "Ctrl-E",
    "itemize": "Ctrl-I"
   },
   "labels_anchors": false,
   "latex_user_defs": false,
   "report_style_numbering": false,
   "user_envs_cfg": false
  },
  "nbTranslate": {
   "displayLangs": [
    "*"
   ],
   "hotkey": "alt-t",
   "langInMainMenu": true,
   "sourceLang": "en",
   "targetLang": "fr",
   "useGoogleTranslate": true
  },
  "nteract": {
   "version": "0.12.3"
  },
  "toc": {
   "base_numbering": 1,
   "nav_menu": {},
   "number_sections": true,
   "sideBar": true,
   "skip_h1_title": false,
   "title_cell": "Table of Contents",
   "title_sidebar": "Contents",
   "toc_cell": false,
   "toc_position": {},
   "toc_section_display": true,
   "toc_window_display": false
  },
  "varInspector": {
   "cols": {
    "lenName": 16,
    "lenType": 16,
    "lenVar": 40
   },
   "kernels_config": {
    "python": {
     "delete_cmd_postfix": "",
     "delete_cmd_prefix": "del ",
     "library": "var_list.py",
     "varRefreshCmd": "print(var_dic_list())"
    },
    "r": {
     "delete_cmd_postfix": ") ",
     "delete_cmd_prefix": "rm(",
     "library": "var_list.r",
     "varRefreshCmd": "cat(var_dic_list()) "
    }
   },
   "position": {
    "height": "426px",
    "left": "903px",
    "right": "20px",
    "top": "157px",
    "width": "490px"
   },
   "types_to_exclude": [
    "module",
    "function",
    "builtin_function_or_method",
    "instance",
    "_Feature"
   ],
   "window_display": false
  }
 },
 "nbformat": 4,
 "nbformat_minor": 1
}
