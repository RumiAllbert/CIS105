{
 "cells": [
  {
   "cell_type": "code",
   "execution_count": 62,
   "metadata": {
    "ExecuteTime": {
     "end_time": "2020-04-21T17:54:16.644676Z",
     "start_time": "2020-04-21T17:54:16.639248Z"
    }
   },
   "outputs": [],
   "source": [
    "def heapify(arr, n, i): \n",
    "    smallest = i # Initialize smalles as root  \n",
    "    l = 2 * i + 1 # left = 2*i + 1  \n",
    "    r = 2 * i + 2 # right = 2*i + 2  \n",
    "  \n",
    "    if l < n and arr[l] < arr[smallest]:  \n",
    "        smallest = l  \n",
    "  \n",
    "    if r < n and arr[r] < arr[smallest]:  \n",
    "        smallest = r  \n",
    "  \n",
    "    if smallest != i:  \n",
    "        (arr[i], arr[smallest]) = (arr[smallest], arr[i]) \n",
    "  \n",
    "        heapify(arr, n, smallest) "
   ]
  },
  {
   "cell_type": "code",
   "execution_count": 63,
   "metadata": {
    "ExecuteTime": {
     "end_time": "2020-04-21T17:54:16.914533Z",
     "start_time": "2020-04-21T17:54:16.910316Z"
    }
   },
   "outputs": [],
   "source": [
    "def heapSort2(arr): \n",
    "      \n",
    "    for i in range(int(n / 2) - 1, -1, -1): \n",
    "        heapify(arr, n, i)  \n",
    "  \n",
    "    for i in range(n-1, -1, -1): \n",
    "        arr[0], arr[i] = arr[i], arr[0] \n",
    "        heapify(arr, i, 0) "
   ]
  },
  {
   "cell_type": "code",
   "execution_count": 64,
   "metadata": {
    "ExecuteTime": {
     "end_time": "2020-04-21T17:54:17.225934Z",
     "start_time": "2020-04-21T17:54:17.222261Z"
    }
   },
   "outputs": [
    {
     "name": "stdout",
     "output_type": "stream",
     "text": [
      "Sorted array is\n",
      "[13, 12, 11, 7, 6, 5]\n"
     ]
    }
   ],
   "source": [
    "## Test the code\n",
    "arr = [ 12, 11, 13, 5, 6, 7]\n",
    "heapSort2(arr)\n",
    "n = len(arr)\n",
    "print (\"Sorted array is\")\n",
    "print(arr)\n",
    "\n",
    "# prints:\n",
    "#Sorted array is\n",
    "# [13, 12, 11, 7, 6, 5]"
   ]
  },
  {
   "cell_type": "code",
   "execution_count": null,
   "metadata": {},
   "outputs": [],
   "source": []
  }
 ],
 "metadata": {
  "kernelspec": {
   "display_name": "Python 3",
   "language": "python",
   "name": "python3"
  },
  "language_info": {
   "codemirror_mode": {
    "name": "ipython",
    "version": 3
   },
   "file_extension": ".py",
   "mimetype": "text/x-python",
   "name": "python",
   "nbconvert_exporter": "python",
   "pygments_lexer": "ipython3",
   "version": "3.7.4"
  },
  "varInspector": {
   "cols": {
    "lenName": 16,
    "lenType": 16,
    "lenVar": 40
   },
   "kernels_config": {
    "python": {
     "delete_cmd_postfix": "",
     "delete_cmd_prefix": "del ",
     "library": "var_list.py",
     "varRefreshCmd": "print(var_dic_list())"
    },
    "r": {
     "delete_cmd_postfix": ") ",
     "delete_cmd_prefix": "rm(",
     "library": "var_list.r",
     "varRefreshCmd": "cat(var_dic_list()) "
    }
   },
   "types_to_exclude": [
    "module",
    "function",
    "builtin_function_or_method",
    "instance",
    "_Feature"
   ],
   "window_display": false
  }
 },
 "nbformat": 4,
 "nbformat_minor": 2
}
