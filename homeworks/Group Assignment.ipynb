{
 "cells": [
  {
   "cell_type": "code",
   "execution_count": 14,
   "metadata": {
    "ExecuteTime": {
     "end_time": "2020-02-25T19:39:25.904905Z",
     "start_time": "2020-02-25T19:39:12.946417Z"
    },
    "code_folding": []
   },
   "outputs": [],
   "source": [
    "# Rumi Allbert & Daniel Cui\n",
    "\n",
    "import requests\n",
    "from bs4 import BeautifulSoup, SoupStrainer\n",
    "import re\n",
    "import pandas as pd\n",
    "\n",
    "# Get HTML from link\n",
    "mainURL = 'http://en.minghui.org/html/articles/2020/2/10/todays-articles.html'\n",
    "mainHTML = requests.get(mainURL)\n",
    "mainHTML.encoding = 'utf-8'\n",
    "soupMain = BeautifulSoup(mainHTML.text, 'html.parser')\n",
    "# Filter all links from main links section\n",
    "linkListHTML = soupMain.findAll('ul', class_='listWrap')\n",
    "linksHTML = linkListHTML[0].findAll('a')\n",
    "\n",
    "# Construct lists for titles, links, and word counts.\n",
    "titleList = []\n",
    "linkList = []\n",
    "wordCountList = []\n",
    "\n",
    "# Fill in titleList, linkList, and wordCountList\n",
    "for L in linksHTML:\n",
    "    # Titles\n",
    "    tx = L.getText().replace('▪', '').strip()\n",
    "    titleList.append(tx)\n",
    "\n",
    "    # Links\n",
    "    linkSubdirectory = L.attrs['href']\n",
    "    link = 'http://en.minghui.org' + linkSubdirectory\n",
    "    linkList.append(link)\n",
    "\n",
    "    # Word Count\n",
    "    subPageHTML = requests.get(link)\n",
    "    subPageHTML.encoding = 'utf-8'\n",
    "    soupSub = BeautifulSoup(subPageHTML.text, 'html.parser')\n",
    "    bodySub = soupSub.findAll('div', class_='articleZhengwen geo cBBlack')\n",
    "    paragraphs = bodySub[0].findAll('p')\n",
    "    '''Make a word counter variable'''\n",
    "    wordCount = 0\n",
    "    for paragraph in paragraphs:\n",
    "        text = paragraph.getText()\n",
    "        '''remove numbers, special characters, nbsp's, and .org instances'''\n",
    "        noNum = ''.join(filter(lambda x: not x.isdigit(), text))\n",
    "        onlyWords = re.sub('[!@#$%^&*(),.?:;\\-\"/“”+–—\\[\\]]', ' ', noNum)\n",
    "        noSpecial = onlyWords.replace('\\xa0', ' ').replace(' org ', ' ')\n",
    "        neatWords = ' '.join(noSpecial.split())\n",
    "        wordCount += len(neatWords)\n",
    "    '''Account for the \"Minghui\" at the beginning of each article'''\n",
    "    wordCount -= 1\n",
    "    wordCountList.append(wordCount)\n",
    "\n",
    "# Construct index list for dataframe\n",
    "dfIndex = ['Link ' + str(i + 1) for i in range(len(linkList))]\n",
    "\n",
    "#Create dataframe listing title, link, and word count\n",
    "linksDF = pd.DataFrame(\n",
    "    list(zip(titleList, linkList, wordCountList)),\n",
    "    index=dfIndex,\n",
    "    columns=['Article Title', 'Article Link', 'Article Word Count'])\n",
    "\n",
    "#write an excel file using dataframe\n",
    "writer = pd.ExcelWriter(\"ExcelProjectFile.xlsx\", engine='xlsxwriter')\n",
    "\n",
    "# Modify column spacing\n",
    "linksDF.to_excel(writer, sheet_name='Sheet1')\n",
    "workbook  = writer.book\n",
    "worksheet = writer.sheets['Sheet1']\n",
    "worksheet.set_column('B:B', 78)\n",
    "worksheet.set_column('C:C', 46)\n",
    "worksheet.set_column('D:D', 17)\n",
    "writer.save()"
   ]
  },
  {
   "cell_type": "code",
   "execution_count": null,
   "metadata": {},
   "outputs": [],
   "source": []
  }
 ],
 "metadata": {
  "kernelspec": {
   "display_name": "Python 3",
   "language": "python",
   "name": "python3"
  },
  "language_info": {
   "codemirror_mode": {
    "name": "ipython",
    "version": 3
   },
   "file_extension": ".py",
   "mimetype": "text/x-python",
   "name": "python",
   "nbconvert_exporter": "python",
   "pygments_lexer": "ipython3",
   "version": "3.7.4"
  },
  "varInspector": {
   "cols": {
    "lenName": 16,
    "lenType": 16,
    "lenVar": 40
   },
   "kernels_config": {
    "python": {
     "delete_cmd_postfix": "",
     "delete_cmd_prefix": "del ",
     "library": "var_list.py",
     "varRefreshCmd": "print(var_dic_list())"
    },
    "r": {
     "delete_cmd_postfix": ") ",
     "delete_cmd_prefix": "rm(",
     "library": "var_list.r",
     "varRefreshCmd": "cat(var_dic_list()) "
    }
   },
   "types_to_exclude": [
    "module",
    "function",
    "builtin_function_or_method",
    "instance",
    "_Feature"
   ],
   "window_display": false
  }
 },
 "nbformat": 4,
 "nbformat_minor": 2
}
