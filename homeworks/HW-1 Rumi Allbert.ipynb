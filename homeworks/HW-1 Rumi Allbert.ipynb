{
 "cells": [
  {
   "cell_type": "markdown",
   "metadata": {},
   "source": [
    "# HW -1\n",
    "\n",
    "Please write your code and your explaination all in this notebook and submit it on canvas.\n",
    "\n",
    "**Note: After you finish your work, click \"file\", choose \"Download as\">\"notebook(.ipynb)\" to download your notebook and submit it.**"
   ]
  },
  {
   "cell_type": "markdown",
   "metadata": {},
   "source": [
    "## Computing $\\pi$ using random numbers (Monte Carlo simulation)\n",
    "\n",
    "First please read this article:\n",
    "https://www.geeksforgeeks.org/estimating-value-pi-using-monte-carlo/\n",
    "\n",
    "You will be implement same algorithm in python to compute $\\pi$\n",
    "\n",
    "Before you start, you need to play around with following functions in python:\n",
    "\n",
    "* Run cells below:"
   ]
  },
  {
   "cell_type": "code",
   "execution_count": null,
   "metadata": {
    "ExecuteTime": {
     "end_time": "2020-01-22T19:49:39.530854Z",
     "start_time": "2020-01-22T19:49:39.516611Z"
    }
   },
   "outputs": [],
   "source": [
    "import random\n",
    "import math\n",
    "# Above import statements allow us to access following functions:\n",
    "\n"
   ]
  },
  {
   "cell_type": "code",
   "execution_count": null,
   "metadata": {
    "ExecuteTime": {
     "end_time": "2020-01-22T19:51:11.182377Z",
     "start_time": "2020-01-22T19:51:11.165591Z"
    }
   },
   "outputs": [],
   "source": [
    "# Try to click running statements below multiple times:\n",
    "x = random.random()\n",
    "y = random.random()\n",
    "\n",
    "print(x, y)"
   ]
  },
  {
   "cell_type": "markdown",
   "metadata": {},
   "source": [
    "You guessed right - `random() ` function inside `random` package - which we write as `random.random()` will generate a random number between 0 and 1 (including 0 but not 1) everytime you call the function.\n",
    "\n",
    "Run cell below to read documentation:\n"
   ]
  },
  {
   "cell_type": "code",
   "execution_count": null,
   "metadata": {
    "ExecuteTime": {
     "end_time": "2020-01-22T19:54:53.635941Z",
     "start_time": "2020-01-22T19:54:53.628690Z"
    }
   },
   "outputs": [],
   "source": [
    "random.random()"
   ]
  },
  {
   "cell_type": "code",
   "execution_count": null,
   "metadata": {
    "ExecuteTime": {
     "end_time": "2020-01-22T19:57:29.032553Z",
     "start_time": "2020-01-22T19:57:29.022487Z"
    }
   },
   "outputs": [],
   "source": [
    "# Run cell below --\n",
    "\n",
    "c = math.sqrt(9.0)\n",
    "d = math.sqrt(4.0)\n",
    "print(c, d)\n"
   ]
  },
  {
   "cell_type": "markdown",
   "metadata": {},
   "source": [
    "As you can see, `math` package contains many useful function and we are using `sqrt()` which computes square root of the given number.\n",
    "\n",
    "* Next you want to get your self familiar with loop:\n"
   ]
  },
  {
   "cell_type": "code",
   "execution_count": null,
   "metadata": {
    "ExecuteTime": {
     "end_time": "2020-01-22T20:05:39.234787Z",
     "start_time": "2020-01-22T20:05:39.223169Z"
    }
   },
   "outputs": [],
   "source": [
    "nLoop = 10\n",
    "for j in range(nLoop):\n",
    "    x = random.random()\n",
    "    # do some thing else.\n",
    "    print (x)\n"
   ]
  },
  {
   "cell_type": "code",
   "execution_count": 13,
   "metadata": {},
   "outputs": [
    {
     "name": "stdout",
     "output_type": "stream",
     "text": [
      "The estimate is:  3.1415\n"
     ]
    }
   ],
   "source": [
    "import random\n",
    "import math \n",
    "\n",
    "#Declaration of variable\n",
    "\n",
    "estimate = \"The estimate is: \"\n",
    "\n",
    "#Represents the number of 'dots' that go inside the cirlce\n",
    "inside = 0\n",
    "\n",
    "#Represents the number of times the 'dots' are drawn\n",
    "nLoop = 10000000\n",
    "\n",
    "#loop that iterates through all of the values in the range of the number of times thrown\n",
    "for i in range(0,nLoop):\n",
    "    #Generates random values of X and Y\n",
    "    x = random.random()\n",
    "    y = random.random()\n",
    "    \n",
    "    #Increase if it is inside the 'circle'\n",
    "    if math.sqrt((x ** 2) + (y ** 2)) <= 1:\n",
    "        inside += 1\n",
    "    pi = 4 * inside/nLoop\n",
    "    #If the value is very close to pi it breaks from the loop since it has reached a certain accuracy\n",
    "    if pi >= 3.1415:\n",
    "            break\n",
    "print(estimate,pi)"
   ]
  },
  {
   "cell_type": "markdown",
   "metadata": {},
   "source": [
    "### Can you improve your code such that it automatically stops when reaching certain accuracy?\n",
    "\n",
    "You can use `break` to make loop stops early, as shown below.\n",
    "\n",
    "Now just think about what to write in the `if` condition to evaluate accuracy?"
   ]
  },
  {
   "cell_type": "code",
   "execution_count": null,
   "metadata": {
    "ExecuteTime": {
     "end_time": "2020-01-22T20:13:35.455983Z",
     "start_time": "2020-01-22T20:13:35.438812Z"
    }
   },
   "outputs": [],
   "source": [
    "for j in range(10000):\n",
    "    if j >= 20:\n",
    "        break\n",
    "    print (j)"
   ]
  },
  {
   "cell_type": "code",
   "execution_count": null,
   "metadata": {},
   "outputs": [],
   "source": []
  }
 ],
 "metadata": {
  "kernelspec": {
   "display_name": "Python 3",
   "language": "python",
   "name": "python3"
  },
  "language_info": {
   "codemirror_mode": {
    "name": "ipython",
    "version": 3
   },
   "file_extension": ".py",
   "mimetype": "text/x-python",
   "name": "python",
   "nbconvert_exporter": "python",
   "pygments_lexer": "ipython3",
   "version": "3.7.4"
  },
  "toc": {
   "base_numbering": 1,
   "nav_menu": {},
   "number_sections": true,
   "sideBar": true,
   "skip_h1_title": false,
   "title_cell": "Table of Contents",
   "title_sidebar": "Contents",
   "toc_cell": false,
   "toc_position": {},
   "toc_section_display": true,
   "toc_window_display": false
  }
 },
 "nbformat": 4,
 "nbformat_minor": 2
}
