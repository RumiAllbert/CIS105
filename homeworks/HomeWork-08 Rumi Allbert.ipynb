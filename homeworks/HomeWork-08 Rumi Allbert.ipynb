{
 "cells": [
  {
   "cell_type": "markdown",
   "metadata": {},
   "source": [
    "# Problem 1\n",
    "\n",
    "Given two ADT stacks, each contains items in ascending order, write a function which returns a list that joins two stacks and maintains items sorted in ascending order.\n",
    "\n",
    "For example, Input stacks are S1 and S2.\n",
    "\n",
    "Stack S1 contains:\n",
    "\n",
    "    2   5   9  12\n",
    "←top [S1.top() returns 2 ]\n",
    "\n",
    "Stack S2 contains\n",
    "\n",
    "    3  4  7  11 15 17 20\n",
    "←top [S2.top() returns 3 ]\n",
    "\n",
    "\n",
    "Returned list should be (must contain all items in S1 and S2, and in ascending order):\n",
    "\n",
    "[2, 3, 4, 5, 9, 11, 12, 15, 17, 20]\n",
    "\n",
    "ADT stack specifications are as follows:\n",
    "- S.push (e): Add element e at the top of stack S.\n",
    "- S.pop (): Removes and returns the topmost element of stack S. If the stack is empty, an error occurs\n",
    "- S.top (): Returns the reference without removing the topmost element of stack S. If the stack is empty, an error occurs.\n",
    "- S.is_empty (): Returns true if the stack S does not contain any elements.\n",
    "- len (S): Returns the number of elements in stack S In Python, this method is implemented using the `__len__` special method."
   ]
  },
  {
   "cell_type": "markdown",
   "metadata": {},
   "source": [
    "## Method 1"
   ]
  },
  {
   "cell_type": "code",
   "execution_count": 90,
   "metadata": {
    "ExecuteTime": {
     "end_time": "2020-04-16T17:48:16.770972Z",
     "start_time": "2020-04-16T17:48:16.763299Z"
    }
   },
   "outputs": [],
   "source": [
    "def jointSorted(S1, S2):\n",
    "    \n",
    "    # Create a new stack and store the values of both stacks.\n",
    "    newstack = ArrayStack()\n",
    "\n",
    "    while S1.is_empty() == False:\n",
    "        temp = S1.pop()\n",
    "        newstack.push(temp)\n",
    "        \n",
    "    while S2.is_empty() == False:\n",
    "        temp = S2.pop()\n",
    "        newstack.push(temp)\n",
    "        \n",
    "    # Create a temporary stack used to sort the values\n",
    "    tempstack = ArrayStack()\n",
    "    \n",
    "    while newstack.is_empty() == False:\n",
    "        tmp = newstack.top()\n",
    "        newstack.pop()\n",
    "        \n",
    "        while tempstack.is_empty() == False and int(tempstack.top()) > int(tmp):\n",
    "            newstack.push(tempstack.top())\n",
    "            tempstack.pop()\n",
    "            \n",
    "        tempstack.push(tmp)\n",
    "    \n",
    "    final = list(tempstack._data)\n",
    "      \n",
    "    print(\"joint sorted list:\", final)\n",
    "    "
   ]
  },
  {
   "cell_type": "markdown",
   "metadata": {},
   "source": [
    "## Method 2"
   ]
  },
  {
   "cell_type": "code",
   "execution_count": 88,
   "metadata": {
    "ExecuteTime": {
     "end_time": "2020-04-16T17:48:06.991562Z",
     "start_time": "2020-04-16T17:48:06.987570Z"
    }
   },
   "outputs": [],
   "source": [
    "def jointSorted(S1, S2):\n",
    "    \n",
    "    # Create a new stack and store the values of both stacks.\n",
    "    newstack = ArrayStack()\n",
    "\n",
    "    while S1.is_empty() == False:\n",
    "        temp = S1.pop()\n",
    "        newstack.push(temp)\n",
    "        \n",
    "    while S2.is_empty() == False:\n",
    "        temp = S2.pop()\n",
    "        newstack.push(temp)\n",
    "    \n",
    "    # Set the values of the newstack to a new list, and sort the list in ascending order.\n",
    "    final_list = list(newstack._data)\n",
    "    final_list.sort()\n",
    "    print(\"joint sorted list:\", final_list)"
   ]
  },
  {
   "cell_type": "code",
   "execution_count": 91,
   "metadata": {
    "ExecuteTime": {
     "end_time": "2020-04-16T17:48:19.128488Z",
     "start_time": "2020-04-16T17:48:19.115849Z"
    }
   },
   "outputs": [
    {
     "name": "stdout",
     "output_type": "stream",
     "text": [
      "S1:  [11, 9, 5, 1] top-->  1\n",
      "S2:  [22, 20, 12, 8, 6, 2] top-->  2\n",
      "joint sorted list: [1, 2, 5, 6, 8, 9, 11, 12, 20, 22]\n"
     ]
    }
   ],
   "source": [
    "# Test your code:\n",
    "class Empty(Exception):\n",
    "    \"\"\"Error attempting to access an element from an empty container.\"\"\"\n",
    "    pass\n",
    "\n",
    "class ArrayStack:\n",
    "    \"\"\"LIFO Stack implementation using a Python list as underlying storage.\"\"\"\n",
    "    \n",
    "    def __init__(self):\n",
    "        \"\"\"Create an empty stack.\"\"\"\n",
    "        self._data = []                                  # nonpublic list instance\n",
    "    \n",
    "    def __len__(self):\n",
    "        \"\"\"Return the number of elements in the stack.\"\"\"\n",
    "        return len(self._data)\n",
    "    \n",
    "    def is_empty(self):\n",
    "        \"\"\"Return True if the stack is empty.\"\"\"\n",
    "        return len(self._data) == 0\n",
    "    \n",
    "    def push(self, e):\n",
    "        \"\"\"Add element e to the top of the stack.\"\"\"\n",
    "        self._data.append(e)                             # new item stored at end of list\n",
    "        \n",
    "    def top(self):\n",
    "        \"\"\"Return (but do not remove) the element at the top of the stack.\n",
    "        \n",
    "        Raise Empty exception if the stack is empty.\n",
    "        \"\"\"\n",
    "        if self.is_empty():\n",
    "            raise Empty('Stack is empty')\n",
    "        return self._data[-1]                             # the last item in the list\n",
    "    \n",
    "    def pop(self):\n",
    "        \"\"\"Remove and return the element from the top of the stack (i.e., LIFO).\n",
    "        \n",
    "        Raise Empty exception if the stack is empty.\n",
    "        \"\"\"\n",
    "        if self.is_empty():\n",
    "            raise Empty('Stack is empty')\n",
    "        return self._data.pop()                           # remove last item from list\n",
    "    def __repr__(self):\n",
    "        return repr(self._data)\n",
    "\n",
    "S1 = ArrayStack()\n",
    "S1.push(11)\n",
    "S1.push(9)\n",
    "S1.push(5)\n",
    "S1.push(1)\n",
    "print(\"S1: \", S1, \"top--> \",S1.top())\n",
    "S2 = ArrayStack()\n",
    "S2.push(22)\n",
    "S2.push(20)\n",
    "S2.push(12)\n",
    "S2.push(8)\n",
    "S2.push(6)\n",
    "S2.push(2)\n",
    "print(\"S2: \", S2, \"top--> \",S2.top())\n",
    "L = jointSorted(S1, S2)"
   ]
  },
  {
   "cell_type": "markdown",
   "metadata": {
    "ExecuteTime": {
     "end_time": "2019-01-31T02:55:18.130234Z",
     "start_time": "2019-01-31T02:55:18.124073Z"
    }
   },
   "source": [
    "# Problem 2. LOG function\n",
    "\n",
    "Write a function LOG which compute natural log(x) of given float arguement x. Use this equation:\n",
    "\n",
    "<img src=\"https://wikimedia.org/api/rest_v1/media/math/render/svg/0ec5e8edf3eab66dc05bf73940a09f8a743a24bd\">\n",
    "\n",
    "You can do it using 2 helper functions or write a single function to do it."
   ]
  },
  {
   "cell_type": "code",
   "execution_count": 5,
   "metadata": {
    "ExecuteTime": {
     "end_time": "2020-04-22T14:16:30.010097Z",
     "start_time": "2020-04-22T14:16:30.005804Z"
    },
    "code_folding": []
   },
   "outputs": [],
   "source": [
    "import math \n",
    "\n",
    "def LOG(y):\n",
    "   \n",
    "    total = 0\n",
    "    x = y - 1\n",
    "    for i in range(1, 12):\n",
    "        r = math.pow(x, i)\n",
    "        j = math.pow(-1, i+1)\n",
    "        result = (r*j)/i\n",
    "        total += result\n",
    "    return total\n"
   ]
  },
  {
   "cell_type": "code",
   "execution_count": 6,
   "metadata": {
    "ExecuteTime": {
     "end_time": "2020-04-22T14:16:30.434239Z",
     "start_time": "2020-04-22T14:16:30.430581Z"
    }
   },
   "outputs": [
    {
     "name": "stdout",
     "output_type": "stream",
     "text": [
      "0.6931471805599453\n",
      "0.7365440115440116\n"
     ]
    }
   ],
   "source": [
    "# test\n",
    "import math\n",
    "print(math.log(2.))\n",
    "print(LOG(2.))"
   ]
  },
  {
   "cell_type": "markdown",
   "metadata": {},
   "source": [
    "# Problem 3\n",
    "\n",
    "Assume we have a binary heap (MaxHeap) like picture shown below:\n",
    "\n",
    "<img src=\"https://upload.wikimedia.org/wikipedia/commons/thumb/3/38/Max-Heap.svg/1024px-Max-Heap.svg.png\" width=500>\n",
    "\n",
    "1. Write down the array representation, following the example in [textbook](https://runestone.academy/runestone/books/published/pythonds/Trees/PriorityQueueswithBinaryHeaps.html) of this BinaryHeap. Please note this is maxHeap, which means key at each parent node must be larger than both of its children.\n",
    "\n",
    "2. Insert a key 102 to the binaryHeap.\n",
    "\n",
    ">**a)**. please draw intermediate binarayHeap, on a paper, showing each step of percUp (swapping), and final binHeap strucure.\n",
    "\n",
    ">**b)**. please write down array representation for each intermediate binarayHeap (paire your array with symbol corresponding to your drawing above).\n",
    "\n",
    "3. Delete the max key 100 from the original binaryHeap.\n",
    "\n",
    ">**a)**. please draw intermediate binarayHeap, on a paper, showing each step of percDown (swapping), and final binHeap strucure.\n",
    "\n",
    ">**b)**. please write down array representation for each intermediate binarayHeap (paire your array with symbol corresponding to your drawing above)."
   ]
  },
  {
   "cell_type": "markdown",
   "metadata": {},
   "source": [
    "# Problem 4, 5\n",
    "\n",
    "This is defered to next notebook HW08-2, to be posted in this weekend, and due next weekend. Next notebook will be using python code for binary heap, but I spoke all day long from morning to late afternoon, cannot record the video so this will be delayed."
   ]
  },
  {
   "cell_type": "code",
   "execution_count": null,
   "metadata": {},
   "outputs": [],
   "source": []
  }
 ],
 "metadata": {
  "kernelspec": {
   "display_name": "Python 3",
   "language": "python",
   "name": "python3"
  },
  "language_info": {
   "codemirror_mode": {
    "name": "ipython",
    "version": 3
   },
   "file_extension": ".py",
   "mimetype": "text/x-python",
   "name": "python",
   "nbconvert_exporter": "python",
   "pygments_lexer": "ipython3",
   "version": "3.7.4"
  },
  "latex_envs": {
   "LaTeX_envs_menu_present": true,
   "autoclose": false,
   "autocomplete": true,
   "bibliofile": "biblio.bib",
   "cite_by": "apalike",
   "current_citInitial": 1,
   "eqLabelWithNumbers": true,
   "eqNumInitial": 1,
   "hotkeys": {
    "equation": "Ctrl-E",
    "itemize": "Ctrl-I"
   },
   "labels_anchors": false,
   "latex_user_defs": false,
   "report_style_numbering": false,
   "user_envs_cfg": false
  },
  "nbTranslate": {
   "displayLangs": [
    "en",
    "ko"
   ],
   "hotkey": "alt-t",
   "langInMainMenu": true,
   "sourceLang": "ko",
   "targetLang": "en",
   "useGoogleTranslate": true
  },
  "toc": {
   "base_numbering": 1,
   "nav_menu": {},
   "number_sections": true,
   "sideBar": true,
   "skip_h1_title": false,
   "title_cell": "Table of Contents",
   "title_sidebar": "Contents",
   "toc_cell": false,
   "toc_position": {},
   "toc_section_display": true,
   "toc_window_display": false
  },
  "varInspector": {
   "cols": {
    "lenName": 16,
    "lenType": 16,
    "lenVar": 40
   },
   "kernels_config": {
    "python": {
     "delete_cmd_postfix": "",
     "delete_cmd_prefix": "del ",
     "library": "var_list.py",
     "varRefreshCmd": "print(var_dic_list())"
    },
    "r": {
     "delete_cmd_postfix": ") ",
     "delete_cmd_prefix": "rm(",
     "library": "var_list.r",
     "varRefreshCmd": "cat(var_dic_list()) "
    }
   },
   "types_to_exclude": [
    "module",
    "function",
    "builtin_function_or_method",
    "instance",
    "_Feature"
   ],
   "window_display": false
  }
 },
 "nbformat": 4,
 "nbformat_minor": 2
}
