{
 "cells": [
  {
   "cell_type": "markdown",
   "metadata": {},
   "source": [
    "## Tow of Hanoi Problem (not graded, due Mon 3/2)\n",
    "\n",
    "Write a recursive function to solve the Tow of Hanoi problem."
   ]
  },
  {
   "cell_type": "code",
   "execution_count": null,
   "metadata": {},
   "outputs": [],
   "source": [
    "def hanoi(n, source, helper, target):\n",
    "    if n == 1: \n",
    "        pass\n",
    "    # you can also add this block if it helps to understand the solution:\n",
    "    #elif n==2:\n",
    "    #    pass\n",
    "    else:\n",
    "        # move tower of size n - 1 to helper:\n",
    "        pass\n",
    "        # move disk from source peg to target peg\n",
    "        pass\n",
    "        # move tower of size n-1 from helper to target\n",
    "        pass\n",
    "\n",
    "hanoi(4, \"S\", \"H\", \"T\")"
   ]
  },
  {
   "cell_type": "markdown",
   "metadata": {
    "deletable": false,
    "editable": false
   },
   "source": [
    "### Desired output (no need to print the bullets):\n",
    "    \n",
    "- move disk from S to H\n",
    "- move disk from S to T\n",
    "- move disk from H to T\n",
    "- move disk from S to H\n",
    "- move disk from T to S\n",
    "- move disk from T to H\n",
    "- move disk from S to H\n",
    "- move disk from S to T\n",
    "- move disk from H to T\n",
    "- move disk from H to S\n",
    "- move disk from T to S\n",
    "- move disk from H to T\n",
    "- move disk from S to H\n",
    "- move disk from S to T\n",
    "- move disk from H to T"
   ]
  },
  {
   "cell_type": "code",
   "execution_count": null,
   "metadata": {},
   "outputs": [],
   "source": []
  }
 ],
 "metadata": {
  "kernelspec": {
   "display_name": "Python 3",
   "language": "python",
   "name": "python3"
  },
  "language_info": {
   "codemirror_mode": {
    "name": "ipython",
    "version": 3
   },
   "file_extension": ".py",
   "mimetype": "text/x-python",
   "name": "python",
   "nbconvert_exporter": "python",
   "pygments_lexer": "ipython3",
   "version": "3.7.4"
  },
  "toc": {
   "base_numbering": 1,
   "nav_menu": {},
   "number_sections": true,
   "sideBar": true,
   "skip_h1_title": false,
   "title_cell": "Table of Contents",
   "title_sidebar": "Contents",
   "toc_cell": false,
   "toc_position": {},
   "toc_section_display": true,
   "toc_window_display": false
  },
  "varInspector": {
   "cols": {
    "lenName": 16,
    "lenType": 16,
    "lenVar": 40
   },
   "kernels_config": {
    "python": {
     "delete_cmd_postfix": "",
     "delete_cmd_prefix": "del ",
     "library": "var_list.py",
     "varRefreshCmd": "print(var_dic_list())"
    },
    "r": {
     "delete_cmd_postfix": ") ",
     "delete_cmd_prefix": "rm(",
     "library": "var_list.r",
     "varRefreshCmd": "cat(var_dic_list()) "
    }
   },
   "types_to_exclude": [
    "module",
    "function",
    "builtin_function_or_method",
    "instance",
    "_Feature"
   ],
   "window_display": false
  }
 },
 "nbformat": 4,
 "nbformat_minor": 2
}
