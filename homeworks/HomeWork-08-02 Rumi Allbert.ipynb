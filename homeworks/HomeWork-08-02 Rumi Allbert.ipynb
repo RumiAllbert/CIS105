{
 "cells": [
  {
   "cell_type": "markdown",
   "metadata": {},
   "source": [
    "# Problem 4\n",
    "\n",
    "Write a class binHeap that implement **`maxHeap`** -- every node has a key that is larger than both children, if any.\n",
    "\n",
    "- Your class should include a `buildHeap` method.\n",
    "\n",
    "- Your class must also has a `__repr__` that makes it easy to see the content of your list.\n",
    "\n",
    "- Your `__init__` method should **NOT** make an empty heap--it will instead take a list as arguement and use it to make a proper `maxHeap` (see test example).\n",
    "\n",
    "- Your class must has a `delMax` method that remove the top node and return its key value.\n",
    "\n",
    "- You must write a code to test your class. E.g.,\n",
    "\n",
    "```Python\n",
    "class BinHeap:\n",
    "    #blah blah\n",
    "    #blah blah\n",
    "    pass\n",
    "\n",
    "maxHp = BinHeap([22, 3, 14, 35, 91, 11, 12, 15, 17, 20])\n",
    "\n",
    "print(maxHp) \n",
    "# should prints the heap in proper array representation, but without dummy element at the begining.\n",
    "\n",
    "while maxHp.currentSize>0:\n",
    "    print(maxHp.delMax)\n",
    "# should prints:\n",
    "91\n",
    "35\n",
    "22\n",
    "20\n",
    "17\n",
    "15\n",
    "14\n",
    "12\n",
    "11\n",
    "3\n",
    "\n",
    "```\n",
    "**Before submission please read all requirements and make sure your class satisfies all of them."
   ]
  },
  {
   "cell_type": "code",
   "execution_count": 1,
   "metadata": {
    "ExecuteTime": {
     "end_time": "2020-04-26T00:50:34.795530Z",
     "start_time": "2020-04-26T00:50:34.783017Z"
    }
   },
   "outputs": [],
   "source": [
    "class BinHeap:\n",
    "    def __init__(self, alist):\n",
    "        self.currentSize = 0\n",
    "        heapList = self.buildHeap(alist)\n",
    "\n",
    "    def percUp(self,i):\n",
    "        while i // 2 > 0:\n",
    "          if self.heapList[i] > self.heapList[i // 2]:\n",
    "             tmp = self.heapList[i // 2]\n",
    "             self.heapList[i // 2] = self.heapList[i]\n",
    "             self.heapList[i] = tmp\n",
    "          i = i // 2\n",
    "\n",
    "    def insert(self,k):\n",
    "      self.heapList.append(k)\n",
    "      self.currentSize = self.currentSize + 1\n",
    "      self.percUp(self.currentSize)\n",
    "\n",
    "    def percDown(self,i):\n",
    "      while (i * 2) <= self.currentSize: # item at [i] has left child\n",
    "          mc = self.maxChild(i)\n",
    "          if self.heapList[i] < self.heapList[mc]:\n",
    "              tmp = self.heapList[i]\n",
    "              self.heapList[i] = self.heapList[mc]\n",
    "              self.heapList[mc] = tmp\n",
    "          i = mc\n",
    "\n",
    "    def minChild(self,i):\n",
    "      if i * 2 + 1 > self.currentSize: # no right child\n",
    "          return i * 2 # index of left child\n",
    "      else: # compare key at left and right child\n",
    "          if self.heapList[i*2] < self.heapList[i*2+1]:\n",
    "              return i * 2\n",
    "          else:\n",
    "              return i * 2 + 1\n",
    "    \n",
    "    def maxChild(self,i):\n",
    "      if i * 2 + 1 > self.currentSize: \n",
    "          return i * 2 # index of left child\n",
    "      else: # compare key at left and right child\n",
    "          if self.heapList[i*2] > self.heapList[i*2+1]:\n",
    "              return i * 2\n",
    "          else:\n",
    "              return i * 2 + 1\n",
    "\n",
    "    def delMax(self):\n",
    "      retval = self.heapList[1]\n",
    "      self.heapList[1] = self.heapList[self.currentSize]\n",
    "      self.currentSize = self.currentSize - 1\n",
    "      self.heapList.pop() # remove last item\n",
    "      self.percDown(1)\n",
    "      return retval\n",
    "\n",
    "    def buildHeap(self,alist):\n",
    "      i = len(alist) // 2\n",
    "      self.currentSize = len(alist)\n",
    "      self.heapList = [0] + alist[:]\n",
    "      while (i > 0):\n",
    "          self.percDown(i)\n",
    "          i = i - 1\n",
    "\n",
    "    def __repr__(self):\n",
    "         return str(self.heapList[1:]) "
   ]
  },
  {
   "cell_type": "code",
   "execution_count": 2,
   "metadata": {
    "ExecuteTime": {
     "end_time": "2020-04-26T00:50:35.411766Z",
     "start_time": "2020-04-26T00:50:35.406905Z"
    }
   },
   "outputs": [
    {
     "name": "stdout",
     "output_type": "stream",
     "text": [
      "[91, 35, 14, 22, 20, 11, 12, 15, 17, 3]\n",
      "91\n",
      "35\n",
      "22\n",
      "20\n",
      "17\n",
      "15\n",
      "14\n",
      "12\n",
      "11\n",
      "3\n"
     ]
    }
   ],
   "source": [
    "maxHp = BinHeap([22, 3, 14, 35, 91, 11, 12, 15, 17, 20])\n",
    "print(maxHp)\n",
    "while maxHp.currentSize>0:\n",
    "    print(maxHp.delMax())"
   ]
  },
  {
   "cell_type": "markdown",
   "metadata": {},
   "source": [
    "# Problem 5\n",
    "\n",
    "Given a list:\n",
    "\n",
    "[22, 3, 14, 35, 91, 11, 12, 15, 17, 20]\n",
    "\n",
    "Please build \n",
    "\n",
    "- a) a minHeap and\n",
    "- b) a maxHeap\n",
    "\n",
    "For each Heap please draw every intermediate binary tree and its corresponding array representation on a piece of paper. **Please make sure your image is clear and readable.**"
   ]
  },
  {
   "cell_type": "code",
   "execution_count": null,
   "metadata": {},
   "outputs": [],
   "source": []
  }
 ],
 "metadata": {
  "kernelspec": {
   "display_name": "Python 3",
   "language": "python",
   "name": "python3"
  },
  "language_info": {
   "codemirror_mode": {
    "name": "ipython",
    "version": 3
   },
   "file_extension": ".py",
   "mimetype": "text/x-python",
   "name": "python",
   "nbconvert_exporter": "python",
   "pygments_lexer": "ipython3",
   "version": "3.7.4"
  },
  "latex_envs": {
   "LaTeX_envs_menu_present": true,
   "autoclose": false,
   "autocomplete": true,
   "bibliofile": "biblio.bib",
   "cite_by": "apalike",
   "current_citInitial": 1,
   "eqLabelWithNumbers": true,
   "eqNumInitial": 1,
   "hotkeys": {
    "equation": "Ctrl-E",
    "itemize": "Ctrl-I"
   },
   "labels_anchors": false,
   "latex_user_defs": false,
   "report_style_numbering": false,
   "user_envs_cfg": false
  },
  "nbTranslate": {
   "displayLangs": [
    "en",
    "ko"
   ],
   "hotkey": "alt-t",
   "langInMainMenu": true,
   "sourceLang": "ko",
   "targetLang": "en",
   "useGoogleTranslate": true
  },
  "toc": {
   "base_numbering": 1,
   "nav_menu": {},
   "number_sections": true,
   "sideBar": true,
   "skip_h1_title": false,
   "title_cell": "Table of Contents",
   "title_sidebar": "Contents",
   "toc_cell": false,
   "toc_position": {},
   "toc_section_display": true,
   "toc_window_display": false
  },
  "varInspector": {
   "cols": {
    "lenName": 16,
    "lenType": 16,
    "lenVar": 40
   },
   "kernels_config": {
    "python": {
     "delete_cmd_postfix": "",
     "delete_cmd_prefix": "del ",
     "library": "var_list.py",
     "varRefreshCmd": "print(var_dic_list())"
    },
    "r": {
     "delete_cmd_postfix": ") ",
     "delete_cmd_prefix": "rm(",
     "library": "var_list.r",
     "varRefreshCmd": "cat(var_dic_list()) "
    }
   },
   "types_to_exclude": [
    "module",
    "function",
    "builtin_function_or_method",
    "instance",
    "_Feature"
   ],
   "window_display": false
  }
 },
 "nbformat": 4,
 "nbformat_minor": 2
}
