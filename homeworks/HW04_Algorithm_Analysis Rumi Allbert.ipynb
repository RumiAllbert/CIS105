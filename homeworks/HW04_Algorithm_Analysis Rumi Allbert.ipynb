{
 "cells": [
  {
   "cell_type": "markdown",
   "metadata": {},
   "source": [
    "# Home Work 04: Algorithm Analysis #\n"
   ]
  },
  {
   "cell_type": "markdown",
   "metadata": {},
   "source": [
    "**<p style=\"color:red\">You must Run this cell to import necessary modules:</p>**"
   ]
  },
  {
   "cell_type": "code",
   "execution_count": 280,
   "metadata": {
    "ExecuteTime": {
     "end_time": "2020-02-21T18:22:22.962238Z",
     "start_time": "2020-02-21T18:22:22.955697Z"
    }
   },
   "outputs": [],
   "source": [
    "import math as math\n",
    "import numpy as np\n",
    "import matplotlib.pyplot as plt\n",
    "%matplotlib inline"
   ]
  },
  {
   "cell_type": "markdown",
   "metadata": {},
   "source": [
    "## Description:\n",
    "\n",
    "This assignment requires you to visually demonstrate your understanding of algorithm complexity with python code. Let's see an example.\n",
    "\n",
    "This is the example function shown in the class (please modify \"mydata\" by adding more numbers and run):\n"
   ]
  },
  {
   "cell_type": "code",
   "execution_count": 3,
   "metadata": {
    "ExecuteTime": {
     "end_time": "2020-02-18T14:57:59.262012Z",
     "start_time": "2020-02-18T14:57:59.257451Z"
    }
   },
   "outputs": [
    {
     "name": "stdout",
     "output_type": "stream",
     "text": [
      "94\n"
     ]
    }
   ],
   "source": [
    "def find_max(data):\n",
    "  \"\"\"Return the maximum element from a nonempty Python list.\"\"\"\n",
    "  biggest = data[0]               # The initial value to beat\n",
    "  for val in data:                # For each value:\n",
    "    if val > biggest:              # if it is greater than the biggest so far,\n",
    "      biggest = val               # we have found a new biggest (so far)\n",
    "  return biggest                  # When loop ends, biggest is the max\n",
    "\n",
    "# test:\n",
    "mydata = [1,12,5,6,8,94,2, 3, 4,1,0,-1,9,-4,-5]\n",
    "big = find_max(mydata)\n",
    "print(big)"
   ]
  },
  {
   "cell_type": "markdown",
   "metadata": {},
   "source": [
    "### Now we want to show the big-Oh characterization, in terms of  n , of the running time of the find_max function.\n",
    "\n",
    "We add some new lines of code (marked with \"###\" in comments)."
   ]
  },
  {
   "cell_type": "code",
   "execution_count": 5,
   "metadata": {
    "ExecuteTime": {
     "end_time": "2020-02-18T15:00:08.676373Z",
     "start_time": "2020-02-18T15:00:08.668488Z"
    }
   },
   "outputs": [
    {
     "name": "stdout",
     "output_type": "stream",
     "text": [
      "====operations_counter set to 0, loop starts ===========\n",
      "we will compare:  2  and current biggest:  2\n",
      "we will compare:  3  and current biggest:  2\n",
      "**'if' condition is True, now current biggest= 3\n",
      "we will compare:  4  and current biggest:  3\n",
      "**'if' condition is True, now current biggest= 4\n",
      "we will compare:  1  and current biggest:  4\n",
      "we will compare:  0  and current biggest:  4\n",
      "we will compare:  -1  and current biggest:  4\n",
      "we will compare:  9  and current biggest:  4\n",
      "**'if' condition is True, now current biggest= 9\n",
      "we will compare:  -4  and current biggest:  9\n",
      "we will compare:  -5  and current biggest:  9\n",
      "we will compare:  5  and current biggest:  9\n",
      "we will compare:  11  and current biggest:  9\n",
      "**'if' condition is True, now current biggest= 11\n",
      "we will compare:  43  and current biggest:  11\n",
      "**'if' condition is True, now current biggest= 43\n",
      "we will compare:  63  and current biggest:  43\n",
      "**'if' condition is True, now current biggest= 63\n",
      "we will compare:  24  and current biggest:  63\n",
      "we will compare:  67  and current biggest:  63\n",
      "**'if' condition is True, now current biggest= 67\n",
      "\n",
      "## Biggest: 67 . We performed  15  comparison operations.\n"
     ]
    }
   ],
   "source": [
    "def find_max(data):\n",
    "  \"\"\"Return the maximum element from a nonempty Python list.\"\"\"\n",
    "  biggest = data[0]               # The initial value to beat\n",
    "  operations_counter = 0    ### initialize our counter\n",
    "  print (\"====operations_counter set to 0, loop starts ===========\")\n",
    "  for val in data:                # For each value:\n",
    "    print (\"we will compare: \", val, \" and current biggest: \", biggest) ### prints the current biggest\n",
    "    if val > biggest:              # if it is greater than the biggest so far,\n",
    "      biggest = val               # we have found a new biggest (so far)\n",
    "      print (\"**'if' condition is True, now current biggest=\", biggest) ### prints the updated biggest\n",
    "    operations_counter += 1  ### add 1 to our counter because we performed 1 comparison\n",
    "    \n",
    "  return biggest, operations_counter     ### When loop ends, biggest is the max, operations_counter\n",
    "\n",
    "# test:\n",
    "mydata = [2, 3, 4,1,0,-1,9,-4,-5,5,11,43,63,24,67]\n",
    "big, counter = find_max(mydata) ### since we changed to return value of the function to a tuple of 2 items, \n",
    "#we now get 2 values of the tuple\n",
    "print(\"\\n## Biggest:\", big, \". We performed \",counter, \" comparison operations.\") ### prints biggest and number of comparison operations\n"
   ]
  },
  {
   "cell_type": "markdown",
   "metadata": {},
   "source": [
    "### Quantitatively analyze how number of operations (in this example, number of comparisons) grow with data size, which is len(mydata).\n",
    "\n",
    "**Note we comment out the print statement now for clarity in outputs.**\n"
   ]
  },
  {
   "cell_type": "code",
   "execution_count": 214,
   "metadata": {
    "ExecuteTime": {
     "end_time": "2020-02-20T17:10:38.725875Z",
     "start_time": "2020-02-20T17:10:38.557064Z"
    }
   },
   "outputs": [
    {
     "name": "stdout",
     "output_type": "stream",
     "text": [
      " X is a list of data size: \n",
      " [9, 18, 27, 36, 45]\n",
      " Y is number of operations performed in function: \n",
      " [9, 18, 27, 36, 45]\n"
     ]
    },
    {
     "data": {
      "text/plain": [
       "[<matplotlib.lines.Line2D at 0x11eda9650>]"
      ]
     },
     "execution_count": 214,
     "metadata": {},
     "output_type": "execute_result"
    },
    {
     "data": {
      "image/png": "[encoded data removed]",
      "text/plain": [
       "<Figure size 432x288 with 1 Axes>"
      ]
     },
     "metadata": {
      "needs_background": "light"
     },
     "output_type": "display_data"
    }
   ],
   "source": [
    "\n",
    "def find_max(data):\n",
    "  \"\"\"Return the maximum element from a nonempty Python list.\"\"\"\n",
    "  biggest = data[0]               # The initial value to beat\n",
    "  operations_counter = 0    ### initialize our counter\n",
    "  #print (\"====operations_counter set to 0, loop starts ===========\")\n",
    "  for val in data:                # For each value:\n",
    "    #print (\"we will compare: \", val, \" and current biggest: \", biggest) ### prints the current biggest\n",
    "    if val > biggest:              # if it is greater than the biggest so far,\n",
    "      biggest = val               # we have found a new biggest (so far)\n",
    "      #print (\"**'if' condition is True, now current biggest=\", biggest) ### prints the updated biggest\n",
    "    operations_counter += 1  ### add 1 to our counter because we performed 1 comparison\n",
    "    \n",
    "  return biggest, operations_counter     ### When loop ends, biggest is the max, operations_counter\n",
    "\n",
    "# Call the function 5 times, with 1x, 2x, 3x, .. 5x of the data size.\n",
    "mydata = [2, 3, 4,1,0,-1,9,-4,-5]\n",
    "X = []\n",
    "# we will record data size in list X\n",
    "Y = []\n",
    "# we will record number of operations in list Y\n",
    "for j in range(1, 6):\n",
    "    my_newdata = mydata*j\n",
    "    big, counter = find_max(my_newdata)\n",
    "    dataSize = len(my_newdata)\n",
    "    numOperations = counter\n",
    "    X.append(dataSize)\n",
    "    Y.append(numOperations)\n",
    "    \n",
    "print (\" X is a list of data size: \\n\", X) \n",
    "print (\" Y is number of operations performed in function: \\n\", Y)\n",
    "# plot growth function.\n",
    "plt.plot(X, Y)\n"
   ]
  },
  {
   "cell_type": "markdown",
   "metadata": {},
   "source": [
    "### Conclusion:\n",
    "By printing the values in X (data size) and  Y (corresponding # of operations), we demonstrate that the function find_max can be characterized by big-oh of n as O(n). It has a linear grow rate.\n",
    "\n",
    "**<p style=\"color:red\">Now it's your turn:</p>**"
   ]
  },
  {
   "cell_type": "markdown",
   "metadata": {},
   "source": [
    "# Problem 1"
   ]
  },
  {
   "cell_type": "markdown",
   "metadata": {},
   "source": [
    "Give a big-Oh characterization, in terms of $n$, of the running time of the `prefix_average1` function and plot the number of operations vs data size. Use plot then followed by theoretical analysis. \n",
    "\n",
    "**Hint: Focus on how number of operations against variable `total` grows with data size of S.**\n",
    " \n",
    "To write equations in markdown cell, see this example:\n",
    "\n",
    "$$e^x=\\sum_{i=0}^\\infty \\frac{1}{i!}x^i$$\n",
    "\n",
    "The code for above equations is:\n",
    "`$$e^x=\\sum_{i=0}^\\infty \\frac{1}{i!}x^i$$`\n",
    "\n",
    "The trick is to quote your expression in `$$`\n",
    "\n",
    "Inline equation (that is, equation mixed with text) should be quoted by `$`, like $e^{i\\pi} + 1 = 0$ use this code: `$e^{i\\pi} + 1 = 0$`\n",
    "\n",
    "More examples:\n",
    "https://jupyter-notebook.readthedocs.io/en/stable/examples/Notebook/Typesetting%20Equations.html\n"
   ]
  },
  {
   "cell_type": "code",
   "execution_count": 270,
   "metadata": {
    "ExecuteTime": {
     "end_time": "2020-02-21T17:55:49.154417Z",
     "start_time": "2020-02-21T17:55:48.979197Z"
    }
   },
   "outputs": [
    {
     "name": "stdout",
     "output_type": "stream",
     "text": [
      "mydata:  [1, 2, 3, 4, 5, 6, 7, 8]\n",
      "prefix_average1:  [1.0, 1.5, 2.0, 2.5, 3.0, 3.5, 4.0, 4.5]\n",
      "Operations  36\n",
      " X is a list of data size: \n",
      " [8, 16, 24, 32, 40, 48, 56, 64]\n",
      "\n",
      " Y is number of operations performed in function: \n",
      " [9, 18, 27, 36, 45]\n"
     ]
    },
    {
     "data": {
      "text/plain": [
       "[<matplotlib.lines.Line2D at 0x122191810>]"
      ]
     },
     "execution_count": 270,
     "metadata": {},
     "output_type": "execute_result"
    },
    {
     "data": {
      "image/png": "[encoded data removed]",
      "text/plain": [
       "<Figure size 432x288 with 1 Axes>"
      ]
     },
     "metadata": {
      "needs_background": "light"
     },
     "output_type": "display_data"
    }
   ],
   "source": [
    "def prefix_average1(S):\n",
    "  \"\"\"Return list such that, for all j, A[j] equals average of S[0], ..., S[j].\"\"\"\n",
    "  n = len(S)\n",
    "  A = [0] * n      # create new list of n zeros\n",
    "  operation_counter = 0\n",
    "  for j in range(n):\n",
    "    \n",
    "    total = 0     # begin computing S[0] + ... + S[j]\n",
    "    for i in range(j + 1):\n",
    "      total += S[i]\n",
    "      operation_counter += 1\n",
    "      \n",
    "    A[j] = total / (j+1)          # record the average\n",
    "    \n",
    "  return A, operation_counter\n",
    "\n",
    "y = []\n",
    "\n",
    "x = []\n",
    "\n",
    "\n",
    "mydata = list(range(1, 9))\n",
    "print ('mydata: ', mydata)\n",
    "avg1, operation_counter = prefix_average1(mydata)\n",
    "print('prefix_average1: ', avg1)\n",
    "print('Operations ', operation_counter)\n",
    "\n",
    "for j in range(1, 9):\n",
    "    my_newdata = mydata*j\n",
    "    avg1, operation_counter = prefix_average1(my_newdata)\n",
    "    dataSize = len(my_newdata)\n",
    "    numOperations = counter\n",
    "    x.append(dataSize)\n",
    "    y.append(operation_counter)\n",
    "    \n",
    "print (\" X is a list of data size: \\n\", x) \n",
    "print('')\n",
    "print (\" Y is number of operations performed in function: \\n\", Y)\n",
    "x = np.array(x)\n",
    "plt.plot(x,y)\n",
    "plt.plot(x, x*(x+1)/2)"
   ]
  },
  {
   "cell_type": "markdown",
   "metadata": {},
   "source": [
    "**Theoretical analysis:**\n",
    "By taking a look at the plotted graph, it is evident that the shape that the function takes is $O(n^2)$ . Moreover, by taking a look at the data we can see that when the 'n' or amount of data increases, particulartly to great values, the number of operators likewise increases by the function of the sum. "
   ]
  },
  {
   "cell_type": "markdown",
   "metadata": {},
   "source": [
    "**Conclusion:** \n",
    "\n",
    "By plotting the values of `x` - The data size, and that of `y` - the number of operations, one can infer that the function and time complexity of the function can be expressed in terms of $O(n^2)$ , meaning that the function has a very fast growth rate as the number 'n' increases. "
   ]
  },
  {
   "cell_type": "markdown",
   "metadata": {},
   "source": [
    "# Problem 2"
   ]
  },
  {
   "cell_type": "markdown",
   "metadata": {},
   "source": [
    "Give a big-Oh characterization, in terms of $n$, of the running time of the `example2` function."
   ]
  },
  {
   "cell_type": "code",
   "execution_count": 272,
   "metadata": {
    "ExecuteTime": {
     "end_time": "2020-02-21T18:14:37.002298Z",
     "start_time": "2020-02-21T18:14:36.996569Z"
    }
   },
   "outputs": [
    {
     "name": "stdout",
     "output_type": "stream",
     "text": [
      "mydata:  [1, 2, 3, 4, 5, 6, 7, 8]\n",
      "prefix_average3:  [1.0, 1.5, 2.0, 2.5, 3.0, 3.5, 4.0, 4.5]\n",
      "operations:  8\n"
     ]
    }
   ],
   "source": [
    "def prefix_average3(S):\n",
    "  \"\"\"Return list such that, for all j, A[j] equals average of S[0], ..., S[j].\"\"\"\n",
    "  n = len(S)\n",
    "  operation_counter = 0\n",
    "  A = [0] * n                   # create new list of n zeros\n",
    "  total = 0                     # compute prefix sum as S[0] + S[1] + ...\n",
    "  for j in range(n):\n",
    "    total += S[j]               # update prefix sum to include S[j]\n",
    "    A[j] = total / (j+1)        # compute average based on current sum\n",
    "    operation_counter += 1\n",
    "  return A, operation_counter\n",
    "\n",
    "mydata = list(range(1, 9))\n",
    "print ('mydata: ', mydata)\n",
    "avg3, operation_counter = prefix_average3(mydata)\n",
    "print('prefix_average3: ', avg3)\n",
    "print(\"operations: \", operation_counter)\n"
   ]
  },
  {
   "cell_type": "code",
   "execution_count": 275,
   "metadata": {
    "ExecuteTime": {
     "end_time": "2020-02-21T18:15:39.592920Z",
     "start_time": "2020-02-21T18:15:39.412891Z"
    }
   },
   "outputs": [
    {
     "name": "stdout",
     "output_type": "stream",
     "text": [
      " X is a list of data size: \n",
      " [8, 16, 24, 32, 40, 48, 56, 64]\n",
      "\n",
      " Y is number of operations performed in function: \n",
      " [9, 18, 27, 36, 45]\n"
     ]
    },
    {
     "data": {
      "text/plain": [
       "<matplotlib.legend.Legend at 0x122119910>"
      ]
     },
     "execution_count": 275,
     "metadata": {},
     "output_type": "execute_result"
    },
    {
     "data": {
      "image/png": "[encoded data removed]",
      "text/plain": [
       "<Figure size 432x288 with 1 Axes>"
      ]
     },
     "metadata": {
      "needs_background": "light"
     },
     "output_type": "display_data"
    }
   ],
   "source": [
    "x = []\n",
    "y = []\n",
    "\n",
    "for j in range(1, 9):\n",
    "    my_newdata = mydata*j\n",
    "    avg3, operation_counter = prefix_average3(my_newdata)\n",
    "    dataSize = len(my_newdata)\n",
    "    numOperations = counter\n",
    "    x.append(dataSize)\n",
    "    y.append(operation_counter)\n",
    "    \n",
    "print (\" X is a list of data size: \\n\", x) \n",
    "print('')\n",
    "print (\" Y is number of operations performed in function: \\n\", Y)\n",
    "x = np.array(x)\n",
    "plt.plot(x,x, label=\"linear\")\n",
    "plt.legend()"
   ]
  },
  {
   "cell_type": "markdown",
   "metadata": {},
   "source": [
    "**Conclusion:** \n",
    "\n",
    "By graphing the values of `x` as the data size and `y` as the number of operators, it is evident that the above function is $O(n)$ , or in other words, it has a linear growth."
   ]
  },
  {
   "cell_type": "markdown",
   "metadata": {},
   "source": [
    "# Task 3\n",
    "\n",
    "## Textbook(Goodrich):\n",
    "\n",
    "### R3.1  (p141)"
   ]
  },
  {
   "cell_type": "code",
   "execution_count": 248,
   "metadata": {
    "ExecuteTime": {
     "end_time": "2020-02-21T17:48:04.556283Z",
     "start_time": "2020-02-21T17:48:04.134362Z"
    }
   },
   "outputs": [
    {
     "data": {
      "image/png": "[encoded data removed]",
      "text/plain": [
       "<Figure size 432x288 with 1 Axes>"
      ]
     },
     "metadata": {
      "needs_background": "light"
     },
     "output_type": "display_data"
    }
   ],
   "source": [
    "#Create a list for n values, from small to great. Starting from 1 to 1000000000\n",
    "n = []\n",
    "for i in range(1,100):\n",
    "    n.append(i)\n",
    "    \n",
    "#Create a list of lambda functions.\n",
    "functions = [\n",
    "        lambda n: 8*n,\n",
    "        lambda n: 4*n*math.log(n),\n",
    "        lambda n: 2*n**2,\n",
    "        lambda n: n**3,\n",
    "        lambda n: 2**n    #Takes too long of time\n",
    "        ]\n",
    "\n",
    "L = []\n",
    " \n",
    "#Iterate through every function of the function list and append the values of each function using 'n' values to the list.\n",
    "for functions in functions:\n",
    "    L.append(list(map(functions, n)))\n",
    "    \n",
    "#Iterate through all values in the list L, then map the 'n' numbers in the X axis and the Y values (those of the list) in the Y axis.\n",
    "for y in L:\n",
    "    plt.plot(n, y, linewidth=1.75)\n",
    "    \n",
    "#Scale the X and Y values in a log scale.\n",
    "plt.yscale('log')\n",
    "plt.xscale('log')"
   ]
  },
  {
   "cell_type": "markdown",
   "metadata": {},
   "source": [
    "### R3.2  (p141)"
   ]
  },
  {
   "cell_type": "markdown",
   "metadata": {},
   "source": [
    "**n0 = 16, it is the point of intersection for both of the functions. When $n >= n0$ it is best to use the log function, as it takes less time. However, if n < 16 it is actually better to use the squared function.**"
   ]
  },
  {
   "cell_type": "code",
   "execution_count": 286,
   "metadata": {
    "ExecuteTime": {
     "end_time": "2020-02-21T18:31:48.276434Z",
     "start_time": "2020-02-21T18:31:48.109328Z"
    }
   },
   "outputs": [
    {
     "data": {
      "text/plain": [
       "<matplotlib.legend.Legend at 0x1236f8350>"
      ]
     },
     "execution_count": 286,
     "metadata": {},
     "output_type": "execute_result"
    },
    {
     "data": {
      "image/png": "[encoded data removed]",
      "text/plain": [
       "<Figure size 432x288 with 1 Axes>"
      ]
     },
     "metadata": {
      "needs_background": "light"
     },
     "output_type": "display_data"
    }
   ],
   "source": [
    "#Create a list of n values from the range of 1 - 10, inclusive.\n",
    "n = np.array([i for i in range(10,20)])\n",
    "    \n",
    "#Plot the two different functions, using n as the x axis and the function of n values as the y axis.\n",
    "plt.plot(n, 8*n*np.log2(n), label=\"Log\",color=\"red\")\n",
    "plt.plot(n, 2*n**2,label=\"squared\",color=\"blue\")\n",
    "plt.legend()"
   ]
  },
  {
   "cell_type": "markdown",
   "metadata": {},
   "source": [
    "### R3.6  (p141)\n"
   ]
  },
  {
   "cell_type": "markdown",
   "metadata": {},
   "source": [
    "The sum would be twice the sum of all numbers from 0 to n, assuming n > 0 =   ${2(n+1)(n)}/{2}$"
   ]
  },
  {
   "cell_type": "markdown",
   "metadata": {},
   "source": [
    "### R3.8  (p141)\n"
   ]
  },
  {
   "cell_type": "markdown",
   "metadata": {
    "ExecuteTime": {
     "end_time": "2020-02-18T04:23:15.948454Z",
     "start_time": "2020-02-18T04:23:15.909795Z"
    }
   },
   "source": [
    "### From least to greatest growth\n",
    "$2^{10}$\n",
    "\n",
    "$2^{logn}$\n",
    "\n",
    "$3n+100logn$\n",
    "\n",
    "$4n$\n",
    "\n",
    "$nlogn$\n",
    "\n",
    "$4nlogn+2n$\n",
    "\n",
    "$n^2 +10n$\n",
    "\n",
    "$n^3$ \n",
    "\n",
    "$2^n$\n"
   ]
  },
  {
   "cell_type": "markdown",
   "metadata": {},
   "source": [
    "# C-3.46 (p145)"
   ]
  },
  {
   "cell_type": "markdown",
   "metadata": {},
   "source": [
    "Al's justification is flawed because he didn't actually prove his first induction. In order words, he didn't prove that the first sheep is the same color as the rest of the herd. Rather than proving the base, or first induction, he assumes that if he adds another sheep the sheep will be the same color."
   ]
  },
  {
   "cell_type": "code",
   "execution_count": null,
   "metadata": {},
   "outputs": [],
   "source": []
  }
 ],
 "metadata": {
  "kernelspec": {
   "display_name": "Python 3",
   "language": "python",
   "name": "python3"
  },
  "language_info": {
   "codemirror_mode": {
    "name": "ipython",
    "version": 3
   },
   "file_extension": ".py",
   "mimetype": "text/x-python",
   "name": "python",
   "nbconvert_exporter": "python",
   "pygments_lexer": "ipython3",
   "version": "3.7.4"
  },
  "latex_envs": {
   "LaTeX_envs_menu_present": true,
   "autoclose": false,
   "autocomplete": true,
   "bibliofile": "biblio.bib",
   "cite_by": "apalike",
   "current_citInitial": 1,
   "eqLabelWithNumbers": true,
   "eqNumInitial": 1,
   "hotkeys": {
    "equation": "Ctrl-E",
    "itemize": "Ctrl-I"
   },
   "labels_anchors": false,
   "latex_user_defs": false,
   "report_style_numbering": false,
   "user_envs_cfg": false
  },
  "nbTranslate": {
   "displayLangs": [
    "en",
    "ko"
   ],
   "hotkey": "alt-t",
   "langInMainMenu": true,
   "sourceLang": "ko",
   "targetLang": "en",
   "useGoogleTranslate": true
  },
  "toc": {
   "base_numbering": 1,
   "nav_menu": {},
   "number_sections": true,
   "sideBar": true,
   "skip_h1_title": false,
   "title_cell": "Table of Contents",
   "title_sidebar": "Contents",
   "toc_cell": false,
   "toc_position": {},
   "toc_section_display": true,
   "toc_window_display": false
  },
  "varInspector": {
   "cols": {
    "lenName": 16,
    "lenType": 16,
    "lenVar": 40
   },
   "kernels_config": {
    "python": {
     "delete_cmd_postfix": "",
     "delete_cmd_prefix": "del ",
     "library": "var_list.py",
     "varRefreshCmd": "print(var_dic_list())"
    },
    "r": {
     "delete_cmd_postfix": ") ",
     "delete_cmd_prefix": "rm(",
     "library": "var_list.r",
     "varRefreshCmd": "cat(var_dic_list()) "
    }
   },
   "types_to_exclude": [
    "module",
    "function",
    "builtin_function_or_method",
    "instance",
    "_Feature"
   ],
   "window_display": false
  }
 },
 "nbformat": 4,
 "nbformat_minor": 2
}
