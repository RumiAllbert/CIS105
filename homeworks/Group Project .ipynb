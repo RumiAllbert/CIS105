{
 "cells": [
  {
   "cell_type": "code",
   "execution_count": 91,
   "metadata": {
    "ExecuteTime": {
     "end_time": "2020-02-23T20:03:37.960256Z",
     "start_time": "2020-02-23T20:03:37.222845Z"
    }
   },
   "outputs": [
    {
     "name": "stdout",
     "output_type": "stream",
     "text": [
      "{'Title': ['German Practitioner: Falun Dafa Allows Me to Return to My True Self', 'Continued Cover-up of the Coronavirus Epidemic in China', \"Ms. Wu Juan Tortured in Liaoning Women's Prison\", 'NYU Falun Dafa Club Shares the Practice at Spring Club Fest', 'Belated News: Shandong Woman Recounts Arrest and Torture 20 Years Ago for Her Faith', '70-year-old Retired Teacher Beaten in Prison', 'After Two Years of Incommunicado Detention, Shaanxi Man Given Five Years for Practicing Falun Gong', 'Saving Perpetrators with Compassion', 'Letting Go of Selfishness and Urgently Saving People During the Epidemic', 'How Many People Have Died in the Coronavirus Epidemic So Far?', \"A Neighborhood Committee Administrator Gets Around the Communist Regime's Information Censorship\", 'Why Did the Plagues of Ancient Rome Suddenly Disappear?', 'Cultivating as a Member of the Tian Guo Marching Band', 'Denying Party Culture When Teaching Kindergarten', 'Additional Persecution News from China – January 25, 2020 (5 Reports)']}\n"
     ]
    }
   ],
   "source": [
    "# Rumi Allbert & Daniel Cui\n",
    "\n",
    "import pandas as pd\n",
    "import requests\n",
    "from bs4 import BeautifulSoup, SoupStrainer\n",
    "\n",
    "todaysURL = 'http://en.minghui.org/html/articles/2020/2/10/todays-articles.html'\n",
    "resp = requests.get(todaysURL)\n",
    "resp.encoding = 'utf-8'\n",
    "\n",
    "soup = BeautifulSoup(resp.text)\n",
    "linksHTML = soup.find_all(\"ul\", class_=\"listWrap\")\n",
    "\n",
    "links = linksHTML[0].find_all('a')\n",
    "\n",
    "linklist = []\n",
    "titlelist = []\n",
    "wordcount = []\n",
    "\n",
    "for L in links:\n",
    "    linkSubdirectory = L.attrs['href']\n",
    "    tx = L.getText().replace('▪','').strip()\n",
    "    link = 'http://en.minghui.org' + linkSubdirectory\n",
    "    linklist.append(link)\n",
    "    titlelist.append(tx)\n",
    "    \n",
    "testlink = {'Link': linklist}\n",
    "testtitle = {'Title': titlelist}\n",
    "print(testtitle)\n",
    "       \n",
    "page = requests.get(linklist[0])\n",
    "page.encoding = 'utf-8'\n",
    "soup = BeautifulSoup(page.text)\n",
    "divs = soup.find_all(\"div\", class_=\"articleZhengwen geo cBBlack\")\n",
    "paragraphs = divs[0].find_all('p')\n",
    "\n",
    "df1 = pd.DataFrame(testlink)\n",
    "\n",
    "df1.to_excel('Group Project Excel.xlsx')"
   ]
  },
  {
   "cell_type": "code",
   "execution_count": null,
   "metadata": {},
   "outputs": [],
   "source": []
  }
 ],
 "metadata": {
  "kernelspec": {
   "display_name": "Python 3",
   "language": "python",
   "name": "python3"
  },
  "language_info": {
   "codemirror_mode": {
    "name": "ipython",
    "version": 3
   },
   "file_extension": ".py",
   "mimetype": "text/x-python",
   "name": "python",
   "nbconvert_exporter": "python",
   "pygments_lexer": "ipython3",
   "version": "3.7.4"
  },
  "varInspector": {
   "cols": {
    "lenName": 16,
    "lenType": 16,
    "lenVar": 40
   },
   "kernels_config": {
    "python": {
     "delete_cmd_postfix": "",
     "delete_cmd_prefix": "del ",
     "library": "var_list.py",
     "varRefreshCmd": "print(var_dic_list())"
    },
    "r": {
     "delete_cmd_postfix": ") ",
     "delete_cmd_prefix": "rm(",
     "library": "var_list.r",
     "varRefreshCmd": "cat(var_dic_list()) "
    }
   },
   "types_to_exclude": [
    "module",
    "function",
    "builtin_function_or_method",
    "instance",
    "_Feature"
   ],
   "window_display": false
  }
 },
 "nbformat": 4,
 "nbformat_minor": 2
}
