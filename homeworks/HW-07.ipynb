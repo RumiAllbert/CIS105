{
 "cells": [
  {
   "cell_type": "markdown",
   "metadata": {},
   "source": [
    "## Problem 1: do exercise R6.11 in textbook \n",
    " \n",
    "\n",
    "[Hint] Review how we implemented a Stack following its ADT specification (6.1.1 in `ch6.ipynb`) using a list (see class `ArrayStack` in `ch6.ipynb`); you can modify `class ArrayStack` to make your `class Queue`--instead of utilizing a list to store data and to implement the methods, now you utilize a `Collections.deque`, and you must follow specification of `ADT Queue` (see `6.2.1 The Queue Abstract Data Type` in `ch6-2.ipynb`)\n",
    "\n",
    "**Note:** You must also write code to test your `class Queue` -- create an object from your `class Queue`, do some `enqueue` and `dequeue` and `first` operations and print the content of your `Queue` object in every step.\n"
   ]
  },
  {
   "cell_type": "code",
   "execution_count": 5,
   "metadata": {
    "ExecuteTime": {
     "end_time": "2020-04-05T18:20:20.447591Z",
     "start_time": "2020-04-05T18:20:20.433054Z"
    }
   },
   "outputs": [
    {
     "data": {
      "text/plain": [
       "True"
      ]
     },
     "execution_count": 5,
     "metadata": {},
     "output_type": "execute_result"
    }
   ],
   "source": [
    "import collections\n",
    "\n",
    "class Queue():\n",
    "    def __init__(self):\n",
    "        self._data = collections.deque()\n",
    "        self._size = 0\n",
    "        \n",
    "    def __len__(self):\n",
    "        return self._size\n",
    "    \n",
    "    def first(self):\n",
    "        return self._data[0]\n",
    "    \n",
    "    def enqueue(self, e):\n",
    "        self._size += 1\n",
    "        self._data.append(e)\n",
    "            \n",
    "    def is_empty(self):\n",
    "        return self._size == 0\n",
    "    \n",
    "    def dequeue(self):\n",
    "        if self.is_empty():\n",
    "            raise ValueError('Queue is empty')\n",
    "        else:\n",
    "            ans = self._data.popleft()\n",
    "            self._size -= 1\n",
    "            return ans\n",
    "\n",
    "        \n",
    "dq = Queue()\n",
    "dq.is_empty()\n",
    "dq.enqueue(\"Hey\")\n",
    "dq.enqueue(\"This is a queue, and i will be first after dequeued\")\n",
    "dq.dequeue()\n",
    "dq.enqueue(\"I am second in queue, but will be taken out, and thus will be empty\")\n",
    "dq.dequeue()\n",
    "dq.dequeue()\n",
    "dq.is_empty()"
   ]
  },
  {
   "cell_type": "markdown",
   "metadata": {},
   "source": [
    "## Problem 2: do exercise R-6.12\n"
   ]
  },
  {
   "cell_type": "code",
   "execution_count": null,
   "metadata": {},
   "outputs": [],
   "source": [
    "[4]\n",
    "[4,8]\n",
    "[4,8,9]\n",
    "[5,4,8,9]\n",
    "[5, 4, 8, 9] Returns: 9\n",
    "[4, 8, 9] Returns: 5\n",
    "[4,8] Returns: 9\n",
    "[4,8,7]\n",
    "[4,8,7] Returns: 4\n",
    "[4,8,7] Returns: 7\n",
    "[4,8,7,6]\n",
    "[8,7,6] Returns: 4\n",
    "[7,6] Returns: 8"
   ]
  },
  {
   "cell_type": "markdown",
   "metadata": {
    "ExecuteTime": {
     "end_time": "2019-03-10T16:17:09.570603Z",
     "start_time": "2019-03-10T16:17:09.557126Z"
    }
   },
   "source": [
    "## Problem 3: do exercise R-6.13"
   ]
  },
  {
   "cell_type": "code",
   "execution_count": 12,
   "metadata": {
    "ExecuteTime": {
     "end_time": "2020-04-05T18:21:30.050797Z",
     "start_time": "2020-04-05T18:21:30.044095Z"
    }
   },
   "outputs": [
    {
     "name": "stdout",
     "output_type": "stream",
     "text": [
      "deque([1, 2, 3, 5, 4, 6, 7, 8])\n"
     ]
    }
   ],
   "source": [
    "#Using collections.deque()\n",
    "import collections\n",
    "\n",
    "#Create D and Q\n",
    "D = collections.deque()\n",
    "Q = Queue()\n",
    "\n",
    "# Append the values 1 - 8 to D\n",
    "for i in range(1,9):\n",
    "    D.append(i)\n",
    "\n",
    "\n",
    "def rearrange(D,Q):\n",
    "\n",
    "    for i in range(5):\n",
    "        Q.enqueue(D.popleft())\n",
    "\n",
    "    for i in range(3):\n",
    "        D.append(Q.dequeue())\n",
    "\n",
    "    for i in range(2):\n",
    "        D.appendleft(Q.dequeue())\n",
    "\n",
    "    for i in range(3):\n",
    "        Q.enqueue(D.pop())\n",
    "\n",
    "    for i in range(3):\n",
    "        D.appendleft(Q.dequeue())\n",
    "    print(D)\n",
    "    \n",
    "rearrange(D, Q)\n"
   ]
  },
  {
   "cell_type": "markdown",
   "metadata": {},
   "source": [
    "## Problem 4 Generate all permutation of a set in Python\n",
    "\n",
    "Permutation is an arrangement of objects in a specific order. Order of arrangement of object is very important. The number of permutations on a set of n elements is given by  $n!$.  For example, there are $2! = 2*1 = 2$ permutations of `{1, 2}`, namely `{1, 2}` and `{2, 1}`, and $3! = 3*2*1 = 6$ permutations of `{1, 2, 3}, namely {1, 2, 3}, {1, 3, 2}, {2, 1, 3}, {2, 3, 1}, {3, 1, 2} and {3, 2, 1}`.\n",
    "\n",
    "Now trace (with `%%pixie_debugger` magic command or in python tutor online visualization site) the python program below to understand how the function of permutation is implemented recursively. Also carefully read the comments with `e.g.`\n",
    "\n",
    "You want to step in (third button with downward arrow) the function at line 39 and line 2; and step over (2nd button next to triangle play button) for all other lines; then do it again but step in for line 39, 2, and 29.\n"
   ]
  },
  {
   "cell_type": "code",
   "execution_count": null,
   "metadata": {},
   "outputs": [],
   "source": [
    "import pixiedust"
   ]
  },
  {
   "cell_type": "code",
   "execution_count": 54,
   "metadata": {
    "ExecuteTime": {
     "end_time": "2020-04-02T17:37:52.105596Z",
     "start_time": "2020-04-02T17:37:52.099480Z"
    },
    "pixiedust": {
     "displayParams": {}
    }
   },
   "outputs": [
    {
     "name": "stdout",
     "output_type": "stream",
     "text": [
      "[[1, 2, 3], [1, 3, 2], [2, 1, 3], [2, 3, 1], [3, 1, 2], [3, 2, 1]]\n"
     ]
    }
   ],
   "source": [
    "#%%pixie_debugger\n",
    "# Python function to print permutations of a given list \n",
    "def permutation(lst): # e.g., lst = [1,2,3]\n",
    "  \n",
    "    # If lst is empty then there are no permutations \n",
    "    if len(lst) == 0: \n",
    "        return [] \n",
    "  \n",
    "    # If there is only one element in lst then, only \n",
    "    # one permuatation is possible \n",
    "    if len(lst) == 1: \n",
    "        return [lst] \n",
    "  \n",
    "    # Find the permutations for lst if there are \n",
    "    # more than 1 characters \n",
    "  \n",
    "    L = [] # empty list that will store current permutation \n",
    "  \n",
    "    # Iterate the input(lst) and calculate the permutation \n",
    "    for i in range(len(lst)): \n",
    "       m = lst[i] # e.g. if i=1, m = lst[1] = 2\n",
    "  \n",
    "       # Extract lst[i] or m from the list.  remLst is \n",
    "       # remaining list \n",
    "       remLst = lst[:i] + lst[i+1:] \n",
    "       # e.g., if i=1, remLst = lst[:1]+lst[i+1:]=[1,3]\n",
    "  \n",
    "       # Generating all permutations where m is first \n",
    "       # element \n",
    "       permRemLst = permutation(remLst)\n",
    "       for p in  permRemLst: \n",
    "            newPermutation = [m] + p\n",
    "            # e.g., [m]= [2], p may be [1,3] or [3,1]\n",
    "            # then [m] + p may be [2,1,3] or [2,3,1] which are \n",
    "            # permutations starting with 2\n",
    "            L.append(newPermutation) \n",
    "    return L \n",
    "\n",
    "data = [1,2,3]\n",
    "Perm = permutation(data)\n",
    "print(Perm)\n"
   ]
  },
  {
   "cell_type": "markdown",
   "metadata": {},
   "source": [
    "**Your Task:**\n",
    "\n",
    "You want to\n",
    "1. fully understand the algorithm and be able to implement the same recursive function from scratch by yourself. This is within the test range of the final exam.\n",
    "2. modify the above code to implement a function `permutation2` with same functionality, but you are not allowed to use list for `L` at line 16 to help you store output: that said your function should not return a list for base case and for any other case. You could use an `ArrayStack` object (you can copy the `class ArrayStack` from chapter 5) and a `Queue` (you can use the same class you implemented in Problem 1) object instead. That said, your permutation2 will return a `Queue` object instead of a list.\n",
    "\n"
   ]
  },
  {
   "cell_type": "code",
   "execution_count": 57,
   "metadata": {
    "ExecuteTime": {
     "end_time": "2020-04-02T17:39:54.916626Z",
     "start_time": "2020-04-02T17:39:54.903550Z"
    }
   },
   "outputs": [
    {
     "name": "stdout",
     "output_type": "stream",
     "text": [
      "[3, 1, 2]\n",
      "[3, 2, 1]\n",
      "[2, 1, 3]\n",
      "[2, 3, 1]\n",
      "[1, 2, 3]\n",
      "[1, 3, 2]\n"
     ]
    }
   ],
   "source": [
    "class Empty(Exception):\n",
    "    \"\"\"Error attempting to access an element from an empty container.\"\"\"\n",
    "    pass\n",
    "\n",
    "class ArrayStack:\n",
    "    \"\"\"LIFO Stack implementation using a Python list as underlying storage.\"\"\"\n",
    "    \n",
    "    def __init__(self):\n",
    "        \"\"\"Create an empty stack.\"\"\"\n",
    "        self._data = []                                  # nonpublic list instance\n",
    "    \n",
    "    def __len__(self):\n",
    "        \"\"\"Return the number of elements in the stack.\"\"\"\n",
    "        return len(self._data)\n",
    "    \n",
    "    def is_empty(self):\n",
    "        \"\"\"Return True if the stack is empty.\"\"\"\n",
    "        return len(self._data) == 0\n",
    "    \n",
    "    def push(self, e):\n",
    "        \"\"\"Add element e to the top of the stack.\"\"\"\n",
    "        self._data.append(e)                             # new item stored at end of list\n",
    "        \n",
    "    def top(self):\n",
    "        \"\"\"Return (but do not remove) the element at the top of the stack.\n",
    "        \n",
    "        Raise Empty exception if the stack is empty.\n",
    "        \"\"\"\n",
    "        if self.is_empty():\n",
    "            raise Empty('Stack is empty')\n",
    "        return self._data[-1]                             # the last item in the list\n",
    "    \n",
    "    def pop(self):\n",
    "        \"\"\"Remove and return the element from the top of the stack (i.e., LIFO).\n",
    "        \n",
    "        Raise Empty exception if the stack is empty.\n",
    "        \"\"\"\n",
    "        if self.is_empty():\n",
    "            raise Empty('Stack is empty')\n",
    "        return self._data.pop()                           # remove last item from list\n",
    "    def __repr__(self):\n",
    "        return repr(self._data)\n",
    "    \n",
    " \n",
    "#Permutation 2\n",
    "def permutation2(lst):\n",
    "    if len(lst) == 0: \n",
    "        L = ArrayStack()\n",
    "        return L._data\n",
    "  \n",
    "    elif len(lst) == 1: \n",
    "        L =  ArrayStack()\n",
    "        L.push(lst)\n",
    "        return L._data\n",
    "    else:\n",
    "        L =  ArrayStack()\n",
    "        for i in range(len(lst)): \n",
    "           m = lst[i]  \n",
    "           remLst = lst[:i] + lst[i+1:] \n",
    "           permRemLst = permutation2(remLst)\n",
    "           for j in range(len(permRemLst)): \n",
    "                p = permRemLst.pop()\n",
    "                newPermutation2 = [m] + p\n",
    "                L.push(newPermutation2) \n",
    "    return L\n",
    "# test\n",
    "data = [1,2,3]\n",
    "PermQ = permutation2(data)\n",
    "\n",
    "while not PermQ.is_empty():\n",
    "    print (PermQ.pop())\n"
   ]
  },
  {
   "cell_type": "code",
   "execution_count": null,
   "metadata": {},
   "outputs": [],
   "source": [
    "[1, 2, 3]\n",
    "[1, 3, 2]\n",
    "[2, 1, 3]\n",
    "[2, 3, 1]\n",
    "[3, 1, 2]\n",
    "[3, 2, 1]"
   ]
  },
  {
   "cell_type": "markdown",
   "metadata": {},
   "source": [
    "## Non-submission practice\n",
    "\n",
    "- Do exercise 8, 9, 11 at https://www.w3resource.com/python-exercises/data-structures-and-algorithms/python-recursion.php\n",
    "- Do exercises:\n",
    "   https://www.geeksforgeeks.org/python-program-for-reversal-algorithm-for-array-rotation/\n",
    "   \n",
    "   https://www.geeksforgeeks.org/python-program-for-split-the-array-and-add-the-first-part-to-the-end/\n",
    "   \n",
    "- These problems are within the test range of the make up quiz and midterm exam.\n"
   ]
  },
  {
   "cell_type": "code",
   "execution_count": null,
   "metadata": {},
   "outputs": [],
   "source": []
  }
 ],
 "metadata": {
  "kernelspec": {
   "display_name": "Python 3",
   "language": "python",
   "name": "python3"
  },
  "language_info": {
   "codemirror_mode": {
    "name": "ipython",
    "version": 3
   },
   "file_extension": ".py",
   "mimetype": "text/x-python",
   "name": "python",
   "nbconvert_exporter": "python",
   "pygments_lexer": "ipython3",
   "version": "3.7.4"
  },
  "latex_envs": {
   "LaTeX_envs_menu_present": true,
   "autoclose": false,
   "autocomplete": true,
   "bibliofile": "biblio.bib",
   "cite_by": "apalike",
   "current_citInitial": 1,
   "eqLabelWithNumbers": true,
   "eqNumInitial": 1,
   "hotkeys": {
    "equation": "Ctrl-E",
    "itemize": "Ctrl-I"
   },
   "labels_anchors": false,
   "latex_user_defs": false,
   "report_style_numbering": false,
   "user_envs_cfg": false
  },
  "nbTranslate": {
   "displayLangs": [
    "en",
    "ko"
   ],
   "hotkey": "alt-t",
   "langInMainMenu": true,
   "sourceLang": "ko",
   "targetLang": "en",
   "useGoogleTranslate": true
  },
  "toc": {
   "base_numbering": 1,
   "nav_menu": {},
   "number_sections": true,
   "sideBar": true,
   "skip_h1_title": false,
   "title_cell": "Table of Contents",
   "title_sidebar": "Contents",
   "toc_cell": false,
   "toc_position": {},
   "toc_section_display": true,
   "toc_window_display": false
  },
  "varInspector": {
   "cols": {
    "lenName": 16,
    "lenType": 16,
    "lenVar": 40
   },
   "kernels_config": {
    "python": {
     "delete_cmd_postfix": "",
     "delete_cmd_prefix": "del ",
     "library": "var_list.py",
     "varRefreshCmd": "print(var_dic_list())"
    },
    "r": {
     "delete_cmd_postfix": ") ",
     "delete_cmd_prefix": "rm(",
     "library": "var_list.r",
     "varRefreshCmd": "cat(var_dic_list()) "
    }
   },
   "types_to_exclude": [
    "module",
    "function",
    "builtin_function_or_method",
    "instance",
    "_Feature"
   ],
   "window_display": false
  }
 },
 "nbformat": 4,
 "nbformat_minor": 2
}
