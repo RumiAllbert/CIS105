{
 "cells": [
  {
   "cell_type": "markdown",
   "metadata": {},
   "source": [
    "## Cookie Order"
   ]
  },
  {
   "cell_type": "code",
   "execution_count": 1,
   "metadata": {
    "ExecuteTime": {
     "end_time": "2020-05-19T16:33:07.622636Z",
     "start_time": "2020-05-19T16:33:07.614581Z"
    },
    "code_folding": []
   },
   "outputs": [
    {
     "name": "stdout",
     "output_type": "stream",
     "text": [
      "Looks like your code works well!\n"
     ]
    }
   ],
   "source": [
    "# PART A\n",
    "class CookieOrder:\n",
    "    \n",
    "    def __init__(self, variety, numBoxes):\n",
    "        self.variety = variety\n",
    "        self.numBoxes = numBoxes\n",
    "        \n",
    "    def getVariety(self):\n",
    "        return self.variety\n",
    "    \n",
    "    def getNumBoxes(self):\n",
    "        return self.numBoxes\n",
    "    \n",
    "class MasterOrder:\n",
    "    def __init__(self):\n",
    "        self.orders = []\n",
    "        \n",
    "    def addOrder(self, CookieOrder):\n",
    "        self.orders.append(CookieOrder)\n",
    "        \n",
    "    def getTotalBoxes(self):\n",
    "        total = 0\n",
    "        for i in self.orders:\n",
    "            total += i.getNumBoxes()\n",
    "        return total\n",
    "    \n",
    "test1 = False\n",
    "test2 = False\n",
    "\n",
    "order = MasterOrder()\n",
    "\n",
    "if order.getTotalBoxes() == 0:\n",
    "    test1 = True\n",
    "else:\n",
    "    print(\" Oops! Looks like your code doesn't properly check to see if the master order is empty.\\n\")\n",
    "\n",
    "rasin = CookieOrder(\"Raisin\", 3)\n",
    "oatmeal = CookieOrder(\"Oatmeal\", 8)\n",
    "order.addOrder(rasin)\n",
    "order.addOrder(oatmeal)\n",
    "\n",
    "if order.getTotalBoxes() == 11:\n",
    "    test2 = True\n",
    "else:\n",
    "    print(\"Oops! Looks like your code doesn't properly count the number of boxes in the master order.\\n\")\n",
    "\n",
    "if (test1 and test2):\n",
    "    print(\"Looks like your code works well!\")\n",
    "else:\n",
    "    print(\"Make some changes to your code, please.\")"
   ]
  },
  {
   "cell_type": "code",
   "execution_count": 2,
   "metadata": {
    "ExecuteTime": {
     "end_time": "2020-05-19T16:33:10.358763Z",
     "start_time": "2020-05-19T16:33:10.347949Z"
    }
   },
   "outputs": [
    {
     "name": "stdout",
     "output_type": "stream",
     "text": [
      "Loos like your code works well!\n"
     ]
    }
   ],
   "source": [
    "# PART B\n",
    "class CookieOrder:\n",
    "    def __init__(self, variety, numBoxes):\n",
    "        self.variety = variety\n",
    "        self.numBoxes = numBoxes\n",
    "        \n",
    "    def getVariety(self):\n",
    "        return self.variety\n",
    "    \n",
    "    def getNumBoxes(self):\n",
    "        return self.numBoxes\n",
    "    \n",
    "class MasterOrder:\n",
    "    def __init__(self):\n",
    "        self.orders = []\n",
    "        \n",
    "    def addOrder(self, CookieOrder):\n",
    "        self.orders.append(CookieOrder)\n",
    "        \n",
    "    def getTotalBoxes(self):\n",
    "        total = 0\n",
    "        for i in self.orders:\n",
    "            total += i.getNumBoxes()\n",
    "        return total\n",
    "    \n",
    "    def remmoveVariety(self, cookieVar):\n",
    "        numBoxesRemoved = 0\n",
    "        for i in self.orders:\n",
    "            if i.getVariety() == cookieVar:\n",
    "                numBoxesRemoved += i.getNumBoxes()\n",
    "                self.orders.remove(i)\n",
    "        return numBoxesRemoved\n",
    "        \n",
    "\n",
    "test1 = False\n",
    "test2 = False\n",
    "\n",
    "order = MasterOrder()\n",
    "rasin = CookieOrder(\"Raisin\", 3)\n",
    "order.addOrder(rasin)\n",
    "oatmeal = CookieOrder(\"Oatmeal\", 8)\n",
    "order.addOrder(oatmeal)\n",
    "sugar = CookieOrder(\"Sugar\", 2)\n",
    "order.addOrder(sugar)\n",
    "\n",
    "if order.remmoveVariety(\"Raisin\") == 3 and order.remmoveVariety(\"Sugar\") == 2:\n",
    "    test1 = True\n",
    "else:\n",
    "    print(\"Oops! Looks like your code doesn't return the correct value for cookie order varieties that exist.\\n\")\n",
    "\n",
    "if order.remmoveVariety(\"Chocolate Chip\") == 0:\n",
    "    test2 = True\n",
    "else:\n",
    "    print(\"Oops! Looks like your code doesn't return the correct value for cookie orders that don't exist in the master order.\\n\")\n",
    "\n",
    "if test1 and test2:\n",
    "    print(\"Loos like your code works well!\")\n",
    "else:\n",
    "    print(\"Make some changes to your code please.\")"
   ]
  },
  {
   "cell_type": "markdown",
   "metadata": {},
   "source": [
    "## Gray Image"
   ]
  },
  {
   "cell_type": "code",
   "execution_count": 3,
   "metadata": {
    "ExecuteTime": {
     "end_time": "2020-05-19T16:47:48.922597Z",
     "start_time": "2020-05-19T16:47:48.919500Z"
    }
   },
   "outputs": [],
   "source": [
    "w, h = 4, 4\n",
    "pixelValues = [[0 for x in range(w)] for y in range(h)]"
   ]
  },
  {
   "cell_type": "code",
   "execution_count": 4,
   "metadata": {
    "ExecuteTime": {
     "end_time": "2020-05-19T16:47:50.013747Z",
     "start_time": "2020-05-19T16:47:50.006731Z"
    }
   },
   "outputs": [
    {
     "name": "stdout",
     "output_type": "stream",
     "text": [
      "count white should be 5 and is  5\n"
     ]
    }
   ],
   "source": [
    "# PART A\n",
    "class GrayImage:\n",
    "    BLACK = 0\n",
    "    WHITE = 255\n",
    "    \n",
    "    w = 4\n",
    "    h = 4\n",
    "    pixelValues = [[0 for x in range(w)] for y in range(h)]\n",
    "    \n",
    "    def GrayImages(self, theArray):\n",
    "        self.pixelValues = theArray\n",
    "        \n",
    "    def countWhitePixels(self):\n",
    "        whitePixelCount = 0\n",
    "        for row in self.pixelValues:\n",
    "            for i in row:\n",
    "                if i == self.WHITE:\n",
    "                    whitePixelCount += 1\n",
    "        return whitePixelCount\n",
    "    \n",
    "values = [[255, 184, 178, 84, 129], [84, 255, 255, 130, 94], [78, 255, 0, 0, 78], [84, 130, 255, 130, 84]]\n",
    "image = GrayImage()\n",
    "image.GrayImages(values)\n",
    "print(\"count white should be 5 and is \", image.countWhitePixels())"
   ]
  },
  {
   "cell_type": "code",
   "execution_count": 5,
   "metadata": {
    "ExecuteTime": {
     "end_time": "2020-05-19T16:47:51.490277Z",
     "start_time": "2020-05-19T16:47:51.478997Z"
    }
   },
   "outputs": [
    {
     "name": "stdout",
     "output_type": "stream",
     "text": [
      "221\n",
      "184\n",
      "178\n",
      "84\n",
      "135\n",
      "\n",
      "84\n",
      "255\n",
      "255\n",
      "130\n",
      "84\n",
      "\n",
      "78\n",
      "255\n",
      "0\n",
      "0\n",
      "78\n",
      "\n",
      "84\n",
      "130\n",
      "255\n",
      "130\n",
      "84\n",
      "\n",
      "after processing image\n",
      "\n",
      "221\n",
      "184\n",
      "100\n",
      "84\n",
      "135\n",
      "\n",
      "0\n",
      "125\n",
      "171\n",
      "130\n",
      "84\n",
      "\n",
      "78\n",
      "255\n",
      "0\n",
      "0\n",
      "78\n",
      "\n",
      "84\n",
      "130\n",
      "255\n",
      "130\n",
      "84\n",
      "\n"
     ]
    }
   ],
   "source": [
    "# PART B\n",
    "class GrayImage:\n",
    "    BLACK = 0\n",
    "    WHITE = 255\n",
    "    \n",
    "    w, h = 4, 4\n",
    "    pixelValues = [[0 for x in range(w)] for y in range(h)]\n",
    "    \n",
    "    def GrayImages(self, theArray):\n",
    "        self.pixelValues = theArray\n",
    "        \n",
    "    def processImage(self):\n",
    "        for row in range(len(self.pixelValues)-2):\n",
    "            for col in range(len(self.pixelValues[0])-2):\n",
    "                self.pixelValues[row][col] -= self.pixelValues[row+2][col+2]\n",
    "                if self.pixelValues[row][col] < self.BLACK:\n",
    "                    self.pixelValues[row][col] = self.BLACK\n",
    "                    \n",
    "    def printValues(self):\n",
    "        for r in range(len(self.pixelValues)):\n",
    "            for c in range(len(self.pixelValues[0])):\n",
    "                print(self.pixelValues[r][c])\n",
    "            print()\n",
    "            \n",
    "values = [[221, 184, 178, 84, 135], [84, 255, 255, 130, 84], [78, 255, 0, 0, 78], [84, 130, 255, 130, 84]]\n",
    "image = GrayImage()\n",
    "image.GrayImages(values)\n",
    "image.printValues()\n",
    "image.processImage()\n",
    "print(\"after processing image\\n\")\n",
    "image.printValues()"
   ]
  },
  {
   "cell_type": "code",
   "execution_count": null,
   "metadata": {},
   "outputs": [],
   "source": []
  }
 ],
 "metadata": {
  "kernelspec": {
   "display_name": "Python 3",
   "language": "python",
   "name": "python3"
  },
  "language_info": {
   "codemirror_mode": {
    "name": "ipython",
    "version": 3
   },
   "file_extension": ".py",
   "mimetype": "text/x-python",
   "name": "python",
   "nbconvert_exporter": "python",
   "pygments_lexer": "ipython3",
   "version": "3.7.4"
  },
  "varInspector": {
   "cols": {
    "lenName": 16,
    "lenType": 16,
    "lenVar": 40
   },
   "kernels_config": {
    "python": {
     "delete_cmd_postfix": "",
     "delete_cmd_prefix": "del ",
     "library": "var_list.py",
     "varRefreshCmd": "print(var_dic_list())"
    },
    "r": {
     "delete_cmd_postfix": ") ",
     "delete_cmd_prefix": "rm(",
     "library": "var_list.r",
     "varRefreshCmd": "cat(var_dic_list()) "
    }
   },
   "types_to_exclude": [
    "module",
    "function",
    "builtin_function_or_method",
    "instance",
    "_Feature"
   ],
   "window_display": false
  }
 },
 "nbformat": 4,
 "nbformat_minor": 2
}
