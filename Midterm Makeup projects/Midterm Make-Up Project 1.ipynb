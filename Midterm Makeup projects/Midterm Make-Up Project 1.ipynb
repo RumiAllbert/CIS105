{
 "cells": [
  {
   "cell_type": "markdown",
   "metadata": {},
   "source": [
    "# Horse Barn"
   ]
  },
  {
   "cell_type": "code",
   "execution_count": 1,
   "metadata": {
    "ExecuteTime": {
     "end_time": "2020-04-18T00:48:52.919381Z",
     "start_time": "2020-04-18T00:48:52.914960Z"
    }
   },
   "outputs": [],
   "source": [
    "class Horse:\n",
    "    def getName():\n",
    "        return\n",
    "    def getWeight():\n",
    "        return\n",
    "    \n",
    "class Horsey(Horse):\n",
    "    \n",
    "    def Horsey(self, theName, theWeight):\n",
    "        self.name = theName\n",
    "        self.weight = theWeight\n",
    "        \n",
    "    def getName():\n",
    "        return self.name\n",
    "    \n",
    "    def getWeight():\n",
    "        return self.weight\n",
    "    \n",
    "    def toString():\n",
    "        return \"name: \" + self.name + \"weight: \" + self.weight"
   ]
  },
  {
   "cell_type": "markdown",
   "metadata": {},
   "source": [
    "### Part A"
   ]
  },
  {
   "cell_type": "code",
   "execution_count": 7,
   "metadata": {
    "ExecuteTime": {
     "end_time": "2020-04-18T00:50:07.807033Z",
     "start_time": "2020-04-18T00:50:07.795607Z"
    }
   },
   "outputs": [
    {
     "name": "stdout",
     "output_type": "stream",
     "text": [
      "Index of Trigger should be 0 and is  -1\n",
      "Index of Silver should be 2 and is  -1\n",
      "Index of Coco should be -1 and is  -1\n"
     ]
    }
   ],
   "source": [
    "class HorseBarn:\n",
    "    \n",
    "    spaces = []\n",
    "    \n",
    "    def __len__(self):\n",
    "        return len(self.spaces)\n",
    "    \n",
    "    def HorseBarn(self, numStalls):\n",
    "        spaces = [None]*(numStalls)\n",
    "    \n",
    "    # Part A\n",
    "    def findHorseSpace(self, name):\n",
    "        for i in range(0,len(self.spaces)-1):\n",
    "            if self.spaces[i]!=None and name == self.spaces[i].getName():\n",
    "                return i\n",
    "        return -1\n",
    "    \n",
    "    ###\n",
    "    def toString():\n",
    "        result = \"\"\n",
    "        h = None\n",
    "        for i in range(0, len(self.spaces)):\n",
    "            h = spaces[i]\n",
    "            result = result + \"space \" + i + \"has \"\n",
    "            if h == None:\n",
    "                result = result + \" none \\n\"\n",
    "            else:\n",
    "                result = result + h.toString() + \"\\n\"\n",
    "        return result\n",
    "\n",
    "    \n",
    "barn = HorseBarn()\n",
    "barn.HorseBarn(7)\n",
    "h1 = Horsey()\n",
    "trigger = h1.Horsey(\"Trigger\", 1340)\n",
    "h2 = Horsey()\n",
    "silver = h1.Horsey(\"Silver\",1210)\n",
    "h3 = Horsey()\n",
    "lady = h1.Horsey(\"Lady\", 1575)\n",
    "h4 = Horsey()\n",
    "patches = h1.Horsey(\"Patches\", 1350)\n",
    "h5 = Horsey()\n",
    "duke = h1.Horsey(\"Duke\", 1410)\n",
    "\n",
    "\n",
    "\n",
    "\n",
    "'''barn.spaces[0] =Horsey(\"Trigger\", 1340)\n",
    "barn.spaces[2] = Horsey(\"Silver\",1210)\n",
    "barn.spaces[3] = Horsey(\"Lady\", 1575)\n",
    "barn.spaces[5] = Horsey(\"Patches\", 1350)\n",
    "barn.spaces[6] = Horsey(\"Duke\", 1410)'''\n",
    "# Check what is barn\n",
    "for i in range(0, len(barn)):\n",
    "    print(barn.spaces[i])\n",
    "# Test it\n",
    "print(\"Index of Trigger should be 0 and is \", barn.findHorseSpace(\"Trigger\"))\n",
    "print(\"Index of Silver should be 2 and is \", barn.findHorseSpace(\"Silver\"))\n",
    "print(\"Index of Coco should be -1 and is \", barn.findHorseSpace(\"Coco\"))"
   ]
  },
  {
   "cell_type": "markdown",
   "metadata": {},
   "source": [
    "### Part B"
   ]
  },
  {
   "cell_type": "code",
   "execution_count": 17,
   "metadata": {
    "ExecuteTime": {
     "end_time": "2020-04-18T00:57:43.356559Z",
     "start_time": "2020-04-18T00:57:43.342839Z"
    }
   },
   "outputs": [
    {
     "name": "stdout",
     "output_type": "stream",
     "text": [
      "before consolidate\n",
      "after consolidate\n"
     ]
    }
   ],
   "source": [
    "class HorseBarn:\n",
    "    spaces = []\n",
    "    def HorseBarn(self, numStalls):\n",
    "        spaces = [None]*(numStalls)\n",
    "        \n",
    "    def __repr__(self):\n",
    "        for i in range(len(self.spaces)):\n",
    "            return list(spaces[i])\n",
    "        \n",
    "    # Part B\n",
    "    def consolidate(self):\n",
    "        for i in range(0,len(self.spaces)-1):\n",
    "            if self.spaces[i] == None:\n",
    "                for j in range(i+1, len(self.spaces)):\n",
    "                    if self.spaces[j] != None:\n",
    "                        self.spaces[i] = self.spaces[j]\n",
    "                        self.spaces[j] = None\n",
    "                        j = len(self.spaces)\n",
    "\n",
    "    ###\n",
    "        def toString():\n",
    "            result = \"\"\n",
    "            h = None\n",
    "            for i in range(len(self.spaces)):\n",
    "                h = spaces[i]\n",
    "                result = result + \"space \" + i + \"has \"\n",
    "                if h == None:\n",
    "                    result = result + \" none \\n\"\n",
    "                else:\n",
    "                    result = result + h.toString() + \"\\n\"\n",
    "            return result\n",
    "\n",
    "barn = HorseBarn()\n",
    "barn.HorseBarn(7)\n",
    "h1 = Horsey()\n",
    "trigger = h1.Horsey(\"Trigger\", 1340)\n",
    "h2 = Horsey()\n",
    "silver = h1.Horsey(\"Silver\",1210)\n",
    "h3 = Horsey()\n",
    "lady = h1.Horsey(\"Lady\", 1575)\n",
    "h4 = Horsey()\n",
    "patches = h1.Horsey(\"Patches\", 1350)\n",
    "h5 = Horsey()\n",
    "duke = h1.Horsey(\"Duke\", 1410)\n",
    "print(\"before consolidate\")\n",
    "barn.__repr__()\n",
    "barn.consolidate()\n",
    "print(\"after consolidate\")\n",
    "barn.__repr__()"
   ]
  },
  {
   "cell_type": "markdown",
   "metadata": {},
   "source": [
    "# Sound"
   ]
  },
  {
   "cell_type": "markdown",
   "metadata": {},
   "source": [
    "### Part A"
   ]
  },
  {
   "cell_type": "code",
   "execution_count": 13,
   "metadata": {
    "ExecuteTime": {
     "end_time": "2020-04-12T01:34:32.220811Z",
     "start_time": "2020-04-12T01:34:32.213642Z"
    }
   },
   "outputs": [
    {
     "name": "stdout",
     "output_type": "stream",
     "text": [
      "The original array is:  [40, 2532, 17, -2300, -17, -4000, 2000, 1048, -420, 33, 15, -32, 2030, 3223]\n",
      "\n",
      "limitAmplitude(2000) should return 5\n",
      "and retured: 5\n",
      "\n",
      "The changed array is:  [40, 2000, 17, -2000, -17, -2000, 2000, 1048, -420, 33, 15, -32, 2000, 2000]\n"
     ]
    }
   ],
   "source": [
    "class Sound():\n",
    "    samples = [40, 2532, 17, -2300, -17, -4000, 2000, 1048, -420, 33, 15, -32, 2030, 3223]\n",
    "    # Part A\n",
    "    def limitAmplitute(self, limit):\n",
    "        timesChanged = 0\n",
    "        for i in range(0, len(self.samples)):\n",
    "            if self.samples[i] < - limit:\n",
    "                self.samples[i] = -limit\n",
    "                timesChanged += 1\n",
    "            elif self.samples[i] > limit:\n",
    "                self.samples[i] = limit\n",
    "                timesChanged += 1\n",
    "        return timesChanged\n",
    "\n",
    "\n",
    "s = Sound()\n",
    "print(\"The original array is: \" , s.samples)\n",
    "print(\"\\nlimitAmplitude(2000) should return 5\")\n",
    "print(\"and retured:\",  s.limitAmplitute(2000))\n",
    "print(\"\\nThe changed array is: \" , s.samples)"
   ]
  },
  {
   "cell_type": "markdown",
   "metadata": {},
   "source": [
    "### Part B"
   ]
  },
  {
   "cell_type": "code",
   "execution_count": 14,
   "metadata": {
    "ExecuteTime": {
     "end_time": "2020-04-12T01:34:34.326315Z",
     "start_time": "2020-04-12T01:34:34.318181Z"
    }
   },
   "outputs": [
    {
     "name": "stdout",
     "output_type": "stream",
     "text": [
      "The original array of samples is  [0, 0, 0, 0, -14, 0, -35, -39, 0, -7, 16, 32, 37, 29, 0, 0]\n",
      "\n",
      "The new array of samples is  [-14, 0, -35, -39, 0, -7, 16, 32, 37, 29, 0, 0]\n",
      "\n",
      "The length of the new array should be 12 and is:  12\n"
     ]
    }
   ],
   "source": [
    "class Sound():\n",
    "    samples = [0, 0, 0, 0, -14, 0, -35, -39, 0, -7, 16, 32, 37, 29, 0, 0]\n",
    "    # Part B\n",
    "    def trimSilenceFromBeginning(self):\n",
    "        index = 0\n",
    "        while self.samples[index] == 0:\n",
    "            index += 1\n",
    "        newSamples = [None]*(len(self.samples)-index)\n",
    "        for j in range(0, len(self.samples)-index):\n",
    "            if (j+index) > len(self.samples):\n",
    "                break\n",
    "            else:\n",
    "                newSamples[j] = self.samples[j + index]\n",
    "        self.samples = newSamples\n",
    "        \n",
    "s = Sound()\n",
    "print(\"The original array of samples is \" , s.samples)\n",
    "s.trimSilenceFromBeginning()\n",
    "print(\"\\nThe new array of samples is \", s.samples)\n",
    "print(\"\\nThe length of the new array should be 12 and is: \", len(s.samples))"
   ]
  }
 ],
 "metadata": {
  "kernelspec": {
   "display_name": "Python 3",
   "language": "python",
   "name": "python3"
  },
  "language_info": {
   "codemirror_mode": {
    "name": "ipython",
    "version": 3
   },
   "file_extension": ".py",
   "mimetype": "text/x-python",
   "name": "python",
   "nbconvert_exporter": "python",
   "pygments_lexer": "ipython3",
   "version": "3.7.4"
  },
  "varInspector": {
   "cols": {
    "lenName": 16,
    "lenType": 16,
    "lenVar": 40
   },
   "kernels_config": {
    "python": {
     "delete_cmd_postfix": "",
     "delete_cmd_prefix": "del ",
     "library": "var_list.py",
     "varRefreshCmd": "print(var_dic_list())"
    },
    "r": {
     "delete_cmd_postfix": ") ",
     "delete_cmd_prefix": "rm(",
     "library": "var_list.r",
     "varRefreshCmd": "cat(var_dic_list()) "
    }
   },
   "types_to_exclude": [
    "module",
    "function",
    "builtin_function_or_method",
    "instance",
    "_Feature"
   ],
   "window_display": false
  }
 },
 "nbformat": 4,
 "nbformat_minor": 2
}
